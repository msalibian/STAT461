{
 "cells": [
  {
   "cell_type": "markdown",
   "id": "b5e3ccf9",
   "metadata": {},
   "source": [
    "## Bootstrap confidence intervals\n",
    "\n",
    "In this notebook we compute the different bootstrap confidence intervals\n",
    "discussed in class (Bootstrap-t, percentile, hybrid and bias-corrected \n",
    "accelerated (BCa) percentile). Because we did not discuss in\n",
    "class how to \n",
    "estimate the \"acceleration\" coefficient for the BCa approach, \n",
    "the latter CI be computed using the\n",
    "function `bcanon` of package `bootstrap`.\n",
    "\n",
    "We consider two examples. In the first one \n",
    "a simple the interest is in constructing a confidence \n",
    "interval for the average nightly Airbnb prices \n",
    "in Vancouver. The data includes listings in Vancouver \n",
    "for September 2020.\n",
    "More details can be found in Section 10.4 of \n",
    "(Data Science, A First Introduction, 2022, Timbers, Campbell\n",
    "and Lee)[https://datasciencebook.ca/]. These data are\n",
    "(naturally) highly skewed. \n",
    "\n",
    "The second example is concerned with constructing \n",
    "a confidence interval for the ratio of two means. \n",
    "The data contains historical population levels for \n",
    "49 cities in the US for the years 1920 and 1930,\n",
    "and the interest in in the ratio of the \n",
    "mean population for each of the two years.\n",
    "The data is analyzed in more detail in \n",
    "`Davison, AC., Hinkley, DV. (1997). Bootstrap methods and their applications`\n",
    "(link available on Canvas). \n",
    "\n",
    "\n",
    "### Airbnb  example\n",
    "\n",
    "<!-- 10.4 of https://datasciencebook.ca/ -->\n",
    "The data is available in the `data/listings.csv` file. \n",
    "There are different ways to load these data in `R`, we use\n",
    "the simplest one using the \"base\" function `read.table` that\n",
    "returns a simple `data.frame`, from which we can \n",
    "extract the `price` variable:"
   ]
  },
  {
   "cell_type": "code",
   "execution_count": null,
   "id": "4a21785a",
   "metadata": {},
   "outputs": [],
   "source": [
    "airbnb <- read.table(\"data/listings.csv\", header=TRUE, sep=',')\n",
    "x <- airbnb$price"
   ]
  },
  {
   "cell_type": "markdown",
   "id": "6424e6e4",
   "metadata": {},
   "source": [
    "Note that these data are highly skewed"
   ]
  },
  {
   "cell_type": "code",
   "execution_count": null,
   "id": "fe0024d0",
   "metadata": {
    "attributes": {
     "classes": [],
     "fig.show": "\"hold\",",
     "id": "",
     "out.width": "\"50%\""
    }
   },
   "outputs": [],
   "source": [
    "hist(x)"
   ]
  },
  {
   "cell_type": "markdown",
   "id": "28181a0f",
   "metadata": {},
   "source": [
    "For illustration purposes we consider a very small\n",
    "subset of size `n = 25` from the 4594 available \n",
    "listings."
   ]
  },
  {
   "cell_type": "code",
   "execution_count": null,
   "id": "f100dd79",
   "metadata": {},
   "outputs": [],
   "source": [
    "n <- 25\n",
    "set.seed(17)\n",
    "x0 <- sample(x, n)"
   ]
  },
  {
   "cell_type": "markdown",
   "id": "74b6d63d",
   "metadata": {},
   "source": [
    "You can check that this subsample is also highly skewed. \n",
    "We will use bootstrap to construct a confidence interval\n",
    "for the average listing price for September 2020. We\n",
    "might consider the average of the full data as the \n",
    "\"true\" parameter (our \"target\"). \n",
    "\n",
    "#### CLT-based CI\n",
    "\n",
    "Using a simple Normal approximation to the distribution \n",
    "of the sample mean, we obtain the following \n",
    "95% confidence interval:"
   ]
  },
  {
   "cell_type": "code",
   "execution_count": null,
   "id": "35245662",
   "metadata": {},
   "outputs": [],
   "source": [
    "alpha <- 0.05\n",
    "n <- length(x0)\n",
    "lo0 <- mean(x0) - qnorm(.975) * sd(x0) / sqrt(n)\n",
    "up0 <- mean(x0) + qnorm(.975) * sd(x0) / sqrt(n)\n",
    "c(lo0, up0)"
   ]
  },
  {
   "cell_type": "markdown",
   "id": "b27f6bf2",
   "metadata": {},
   "source": [
    "Note that the \"true\" mean is `r mean(x)`. \n",
    "\n",
    "In many applications it is recommended to work with \n",
    "the logarithm of the data to reduce skeweness (specially\n",
    "when dealing with prices). You can check that indeed the\n",
    "log of the data has a much more symmetric distribution. \n",
    "Thus we can construct a CLT-based CI for the mean of the\n",
    "logarithm of the prices."
   ]
  },
  {
   "cell_type": "code",
   "execution_count": null,
   "id": "735d2d5b",
   "metadata": {},
   "outputs": [],
   "source": [
    "tmp0 <- mean(log(x0)) - qnorm(.975) * sd(log(x0)) / sqrt(n)\n",
    "tmp1 <- mean(log(x0)) + qnorm(.975) * sd(log(x0)) / sqrt(n)"
   ]
  },
  {
   "cell_type": "markdown",
   "id": "0edf726e",
   "metadata": {},
   "source": [
    "However, how to back-transform this to a CI for the mean\n",
    "of the original data can be a bit delicate. \n",
    "We get"
   ]
  },
  {
   "cell_type": "code",
   "execution_count": null,
   "id": "7211feba",
   "metadata": {},
   "outputs": [],
   "source": [
    "si2 <- var(x0)\n",
    "mu <- mean(x0)\n",
    "lo1 <- exp(tmp0 + si2/2/mu^2)\n",
    "up1 <- exp(tmp1 + si2/2/mu^2)\n",
    "c(lo1, up1)"
   ]
  },
  {
   "cell_type": "markdown",
   "id": "a0aa1ac4",
   "metadata": {},
   "source": [
    "#### Percentile bootstrap CI\n",
    "\n",
    "We use 10000 bootstrap samples to estimate the bootstrap\n",
    "sampling distribution of the sample mean. The CI is given\n",
    "by the corresponding percentiles."
   ]
  },
  {
   "cell_type": "code",
   "execution_count": null,
   "id": "4be4cd69",
   "metadata": {},
   "outputs": [],
   "source": [
    "M <- 1e6\n",
    "p.boot <- vector('numeric', M)\n",
    "set.seed(123)\n",
    "for(j in 1:M) {\n",
    "  p.boot[j] <- mean(x0[sample(n, repl=TRUE)])\n",
    "}\n",
    "lo2 <- quantile(p.boot, alpha/2)\n",
    "up2 <- quantile(p.boot, 1-alpha/2)\n",
    "c(lo2, up2)"
   ]
  },
  {
   "cell_type": "markdown",
   "id": "f55d49f6",
   "metadata": {},
   "source": [
    "#### Hybrid CI\n",
    "\n",
    "Here we assume that the sampling distribution of the \n",
    "\"centered\" statistic \n",
    "(hat(theta) - theta) may not depend \n",
    "(\"much\") on unknowns (i.e. that is an approximate pivot). \n",
    "We use bootstrap to estimate\n",
    "its sampling distribution, and the corresponding \n",
    "percentiles as estimators of the percentiles of the\n",
    "sampling distribution of the statistic of interest."
   ]
  },
  {
   "cell_type": "code",
   "execution_count": null,
   "id": "be370dac",
   "metadata": {},
   "outputs": [],
   "source": [
    "theta0 <- mean(x0)\n",
    "m.boot <- p.boot - theta0\n",
    "up3 <- theta0 - quantile(m.boot, alpha/2)\n",
    "lo3 <- theta0 - quantile(m.boot, 1-alpha/2)\n",
    "c(lo3, up3)"
   ]
  },
  {
   "cell_type": "markdown",
   "id": "8f2ac487",
   "metadata": {},
   "source": [
    "#### Bootstrap-T\n",
    "\n",
    "In this approach we bootstrap a studentized \n",
    "statistic, which we expect to being even closer\n",
    "to a pivot. To do this efficiently we need\n",
    "an expression for the variance of the statistic\n",
    "of interest that can be re-computed for each\n",
    "bootstrap sample. Since we're bootstrapping the\n",
    "sample mean, we now that its estimated variance is \n",
    "the variance of the sample being averaged\n",
    "(in this case: the sample variance of the \n",
    "bootstrap samples)\n",
    "divided by the sample size n."
   ]
  },
  {
   "cell_type": "code",
   "execution_count": null,
   "id": "064e2090",
   "metadata": {},
   "outputs": [],
   "source": [
    "M <- 1e6\n",
    "m.boot <- vector('numeric', M)\n",
    "set.seed(123)\n",
    "for(j in 1:M) {\n",
    "  boot.sam <- x0[sample(n, repl=TRUE)]\n",
    "  m.boot[j] <- (mean(boot.sam) - theta0)/sqrt(var(boot.sam)/n)\n",
    "}\n",
    "up4 <- theta0 - sqrt(var(x0)/n) * quantile(m.boot, alpha/2)\n",
    "lo4 <- theta0 - sqrt(var(x0)/n) * quantile(m.boot, 1 - alpha/2)\n",
    "c(lo4, up4)"
   ]
  },
  {
   "cell_type": "markdown",
   "id": "ed820684",
   "metadata": {},
   "source": [
    "#### Bias corrected\n",
    "\n",
    "We use the same estimate of the sampling distribution\n",
    "that we constructed for the \"simple\" percentile\n",
    "approach. The recomputed statistics were stored in\n",
    "the vector `p.boot`"
   ]
  },
  {
   "cell_type": "code",
   "execution_count": null,
   "id": "c6c7d60d",
   "metadata": {},
   "outputs": [],
   "source": [
    "(z0hat <- qnorm( mean( p.boot <= mean(x0) ) ) )\n",
    "( alpha.tilde <- pnorm( 2*z0hat + qnorm(.025) ) )\n",
    "lo5 <- quantile(p.boot, alpha.tilde/2)\n",
    "up5 <- quantile(p.boot, 1-alpha.tilde/2)\n",
    "c(lo5, up5)"
   ]
  },
  {
   "cell_type": "markdown",
   "id": "d29805e6",
   "metadata": {},
   "source": [
    "#### Bias corrected accelerated"
   ]
  },
  {
   "cell_type": "code",
   "execution_count": null,
   "id": "b907c2f6",
   "metadata": {},
   "outputs": [],
   "source": [
    "set.seed(123)\n",
    "tmp <- bootstrap::bcanon(x=x0, nboot=1e6, theta=mean, alpha=c(0.025, 0.975))\n",
    "tmp$confpoints"
   ]
  },
  {
   "cell_type": "markdown",
   "id": "4076ef5f",
   "metadata": {},
   "source": [
    "As a  small sanity check, we can verify that the\n",
    "estimated bias correction in this implementation \n",
    "\"matches\" what we computed above:"
   ]
  },
  {
   "cell_type": "code",
   "execution_count": null,
   "id": "0d084650",
   "metadata": {},
   "outputs": [],
   "source": [
    "c(z0hat, tmp$z0)"
   ]
  },
  {
   "cell_type": "markdown",
   "id": "2f00a9e2",
   "metadata": {},
   "source": [
    "## Bivariate\n",
    "\n",
    "We now consider a less simple example where \n",
    "the interest is in constructing \n",
    "a confidence interval for the ratio of two means. \n",
    "The data are pairs of population levels for \n",
    "49 cities in the US for the years 1920 and 1930. \n",
    "The data are available in the package `boot`, as\n",
    "a 2-column matrix:"
   ]
  },
  {
   "cell_type": "code",
   "execution_count": null,
   "id": "962a4cfc",
   "metadata": {},
   "outputs": [],
   "source": [
    "ci <- boot::bigcity"
   ]
  },
  {
   "cell_type": "markdown",
   "id": "aefa40b0",
   "metadata": {},
   "source": [
    "The point estimator is the ratio of the two means:"
   ]
  },
  {
   "cell_type": "code",
   "execution_count": null,
   "id": "6c84b33a",
   "metadata": {},
   "outputs": [],
   "source": [
    "(theta0 <- mean(ci[, 1])/mean(ci[, 2]))"
   ]
  },
  {
   "cell_type": "markdown",
   "id": "dba884a6",
   "metadata": {},
   "source": [
    "We now use the bootstrap to construct CI's for \n",
    "the popuulation value of this ratio. \n",
    "\n",
    "The calculations are very similar to the ones \n",
    "before. Note that in this case we cannot really use\n",
    "the Bootstrap-t method, since there is no simple \n",
    "(consistent) estimator of the variance of the ratio of two\n",
    "sample means. \n",
    "\n",
    "#### Percentile\n",
    "\n",
    "For the simple percentile bootstrap confidence interval, \n",
    "we estimate the bootstrap cdf estimator using the computer, \n",
    "as before. The bootstrap sample is a random sample \n",
    "(with replacement) drawn from the \n",
    "49 pairs of population numbers, and for each of these\n",
    "bootstrap samples we compute the ratio of the means of\n",
    "each column:"
   ]
  },
  {
   "cell_type": "code",
   "execution_count": null,
   "id": "21e0f92f",
   "metadata": {},
   "outputs": [],
   "source": [
    "n <- dim(ci)[1]\n",
    "M <- 1e6\n",
    "p.boot <- vector('numeric', M)\n",
    "set.seed(123)\n",
    "for(j in 1:M) {\n",
    "  tmp <- sample(n, repl=TRUE)\n",
    "  tmp2 <- colMeans(ci[tmp, ])\n",
    "  p.boot[j] <- tmp2[1] / tmp2[2] # mean(ci[tmp, 1])/mean(ci[tmp,2])\n",
    "}\n",
    "lo1 <- quantile(p.boot, alpha/2)\n",
    "up1 <- quantile(p.boot, 1-alpha/2)\n",
    "c(lo1, up1)"
   ]
  },
  {
   "cell_type": "markdown",
   "id": "24f70a6a",
   "metadata": {},
   "source": [
    "#### Hybrid\n",
    "\n",
    "For the hybrid approach we center our statistic \n",
    "with the point estimator found with the whole data set\n",
    "(denoted `theta0` in the code below):"
   ]
  },
  {
   "cell_type": "code",
   "execution_count": null,
   "id": "b7d4fa91",
   "metadata": {},
   "outputs": [],
   "source": [
    "m.boot <- p.boot - theta0\n",
    "up2 <- theta0 - quantile(m.boot, alpha/2)\n",
    "lo2 <- theta0 - quantile(m.boot, 1-alpha/2)\n",
    "c(lo2, up2)"
   ]
  },
  {
   "cell_type": "markdown",
   "id": "51f7668c",
   "metadata": {},
   "source": [
    "#### BC\n",
    "\n",
    "As before, for the bias corrected approach we can \n",
    "re-use the bootstrap cdf estimator obtained for the\n",
    "simple percentile approach (its values were stored\n",
    "in the `p.boot` object, which we use again here, \n",
    "but use the modified percentiles):"
   ]
  },
  {
   "cell_type": "code",
   "execution_count": null,
   "id": "d8748e44",
   "metadata": {},
   "outputs": [],
   "source": [
    "(z0hat <- qnorm( mean( p.boot <= theta0 ) ) )\n",
    "( alpha.tilde <- pnorm( 2*z0hat + qnorm(.025) ) )\n",
    "lo5 <- quantile(p.boot, alpha.tilde/2)\n",
    "up5 <- quantile(p.boot, 1-alpha.tilde/2)\n",
    "c(lo5, up5)"
   ]
  },
  {
   "cell_type": "markdown",
   "id": "09f06a21",
   "metadata": {},
   "source": [
    "#### BCa\n",
    "\n",
    "In this case to use the implementation in \n",
    "`bootstrap::bcanon` we need to\n",
    "modify our code. This function is written \n",
    "for bootstrapping univariate statistics. A simple\n",
    "trick we can use is to write our estimator as \n",
    "a function of the bootstrapped indices\n",
    "(and the data), and then use `bootstrap::bcanon` to\n",
    "bootstrap from the \"data\" 1, 2, ..., n. \n",
    "Our \"estimator\" is"
   ]
  },
  {
   "cell_type": "code",
   "execution_count": null,
   "id": "4c2a5c29",
   "metadata": {},
   "outputs": [],
   "source": [
    "theta <- function(ind, data) {\n",
    "    tmp <- colMeans(data[ind,])\n",
    "    return(tmp[1] / tmp[2]) # mean(data[ind, 1])  / mean(data[ind, 2])\n",
    "    }"
   ]
  },
  {
   "cell_type": "markdown",
   "id": "7d411471",
   "metadata": {},
   "source": [
    "And then"
   ]
  },
  {
   "cell_type": "code",
   "execution_count": null,
   "id": "fe34a0c6",
   "metadata": {},
   "outputs": [],
   "source": [
    "M <- 1e6\n",
    "n <- dim(ci)[1]\n",
    "set.seed(123)\n",
    "tmp <- bootstrap::bcanon(x=1:n, nboot=M, theta=theta, data=ci, alpha=c(0.025, .975))\n",
    "tmp$confpoints"
   ]
  }
 ],
 "metadata": {
  "kernelspec": {
   "display_name": "R",
   "language": "R",
   "name": "ir"
  },
  "language_info": {
   "codemirror_mode": "r",
   "file_extension": ".r",
   "mimetype": "text/x-r-source",
   "name": "R",
   "pygments_lexer": "r",
   "version": "4.1.0"
  }
 },
 "nbformat": 4,
 "nbformat_minor": 5
}
