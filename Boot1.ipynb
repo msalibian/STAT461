{
 "cells": [
  {
   "cell_type": "markdown",
   "metadata": {},
   "source": [
    "## A few examples\n",
    "\n",
    "In these notes we will use a few simple examples to illustrate \n",
    "how to use the bootstrap in practice to construct confidence intervals for\n",
    "a  \"parameter\" of an underlying and unknown distribution. These\n",
    "first examples are very simple and only meant to \"fix ideas\" about\n",
    "how the use of bootstrap looks outside the blackboard. Furthermore, \n",
    "in these synthetic examples we actually know the true distribution \n",
    "that generated the sample (and thus,\n",
    "we also know the value of the parameter of interest). This will \n",
    "allow us to assess\n",
    "the level of success of this inferential approach. \n",
    "\n",
    "In these examples we will only use the simplest bootstrap \n",
    "percentile method to construct confidence intervals. \n",
    "\n",
    "### Example 1 - Estimate the square root of the expected value\n",
    "\n",
    "Consider a sample $X_1$, \\ldots, $X_n$ from an unknown distribution $F$.\n",
    "We assume that the mean $\\mu = E_F(X)$ exists and are interested in\n",
    "building an approximate 95\\% confidence interval for its square\n",
    "root: $\\theta = \\sqrt{\\mu}$. \n",
    "\n",
    "Here we first generate a sample of size $n = 30$."
   ]
  },
  {
   "cell_type": "code",
   "execution_count": null,
   "metadata": {},
   "outputs": [],
   "source": [
    "set.seed(123)\n",
    "n <- 10\n",
    "x <- rexp(n, rate=4)"
   ]
  },
  {
   "cell_type": "markdown",
   "metadata": {},
   "source": [
    "Note that for these data, $\\theta = 1/2$. A natural estimator \n",
    "for $\\sqrt{\\mu}$ is the square root of the sample mean\n",
    "(e.g. this is the MLE of $\\theta$):"
   ]
  },
  {
   "cell_type": "code",
   "execution_count": null,
   "metadata": {},
   "outputs": [],
   "source": [
    "( t0 <- sqrt(mean(x)) )"
   ]
  },
  {
   "cell_type": "markdown",
   "metadata": {},
   "source": [
    "We will not estimate the distribution of $\\sqrt{ \\bar{X}_n}$\n",
    "using the bootstrap. For this, we sample a large number \n",
    "$M = 5000$ of samples of size $n = 30$ from \n",
    "the empirical distribution $\\hat{F}_n$. As we discussed \n",
    "in class, drawing a sample from the empirical distribution\n",
    "is equivalent to drawing $n$ independent observations \n",
    "from the set $\\left\\{ X_1, \\ldots, X_n \\right\\}$\n",
    "with replacement. In `R` we can do this by simply\n",
    "drawing a sample of the indices, i.e. we \n",
    "draw $n$ points (with replacement) from the set\n",
    "$\\left\\{1, 2, \\ldots, n \\right\\}$ and re-compute\n",
    "the estimator with the corresponding points in the sample. \n",
    "Note that bootstrap samples may (and typically do) contain\n",
    "repeated observations (even if the \"original\" sample does not). \n",
    "\n",
    "Here is one bootstrap sample, and its corresponding \n",
    "re-computed statistic:"
   ]
  },
  {
   "cell_type": "code",
   "execution_count": null,
   "metadata": {},
   "outputs": [],
   "source": [
    "bb <- sample.int(n, repl=TRUE)\n",
    "sort(bb)"
   ]
  },
  {
   "cell_type": "markdown",
   "metadata": {},
   "source": [
    "Here are the correponding observations"
   ]
  },
  {
   "cell_type": "code",
   "execution_count": null,
   "metadata": {},
   "outputs": [],
   "source": [
    "x[bb]"
   ]
  },
  {
   "cell_type": "markdown",
   "metadata": {},
   "source": [
    "and the associated estimator"
   ]
  },
  {
   "cell_type": "code",
   "execution_count": null,
   "metadata": {},
   "outputs": [],
   "source": [
    "sqrt(mean(x[bb]))"
   ]
  },
  {
   "cell_type": "markdown",
   "metadata": {},
   "source": [
    "We now do this $M = 5000$ times, and collect all the recomputed\n",
    "estimators in a vector. Note that there are more efficient ways \n",
    "of doing these calculations, but here I am giving preference to\n",
    "transparency over computational efficiency."
   ]
  },
  {
   "cell_type": "code",
   "execution_count": null,
   "metadata": {},
   "outputs": [],
   "source": [
    "M <- 5000\n",
    "rho <- vector('numeric', M)\n",
    "for(j in 1:M) {\n",
    "  bb <- sample.int(n, repl=TRUE)\n",
    "  # bb <- sample(1:n, repl=TRUE)\n",
    "  rho[j] <- sqrt(mean(x[bb]))\n",
    "}"
   ]
  },
  {
   "cell_type": "markdown",
   "metadata": {},
   "source": [
    "We can look at a histogram and boxplot of the recomputed\n",
    "estimators. These are bootstrap estimators of the true\n",
    "sampling distribution of $\\hat{\\theta}_n = \\sqrt{ \\bar{X}_n }$:"
   ]
  },
  {
   "cell_type": "code",
   "execution_count": null,
   "metadata": {
    "attributes": {
     "classes": [],
     "fig.show": "\"hold\",",
     "id": "",
     "out.width": "\"50%\""
    }
   },
   "outputs": [],
   "source": [
    "hist(rho, main=expression(rho))\n",
    "boxplot(rho, main=expression(rho))"
   ]
  },
  {
   "cell_type": "markdown",
   "metadata": {},
   "source": [
    "We now use the quantiles from the centered bootstrap \n",
    "distribution to build an approximate 95\\% confidence\n",
    "interval for $\\theta = \\sqrt{\\mu}$:"
   ]
  },
  {
   "cell_type": "code",
   "execution_count": null,
   "metadata": {},
   "outputs": [],
   "source": [
    "lo0 <- t0 - quantile(rho - t0, .975)\n",
    "up0 <- t0 - quantile(rho - t0, .025)\n",
    "lo4 <- quantile(rho, .025)\n",
    "up4 <- quantile(rho, .975)\n",
    "rbind(c(lo=lo0, up=up0), c(lo=lo4, up=up4))"
   ]
  },
  {
   "cell_type": "markdown",
   "metadata": {},
   "source": [
    "Alternatively, we can use the CLT and the \"delta\" method\n",
    "to derive a asymptotic CI which yields:"
   ]
  },
  {
   "cell_type": "code",
   "execution_count": null,
   "metadata": {},
   "outputs": [],
   "source": [
    "lo1 <- t0 - qnorm(.975)*sd(x)/2/sqrt(mean(x))/sqrt(n)\n",
    "up1 <- t0 + qnorm(.975)*sd(x)/2/sqrt(mean(x))/sqrt(n)\n",
    "lo11 <- t0 - qnorm(.975)*sd(rho)\n",
    "up11 <- t0 + qnorm(.975)*sd(rho)\n",
    "rbind(c(lo=lo1, up=up1),\n",
    "      c(lo=lo11, up=up11))"
   ]
  },
  {
   "cell_type": "markdown",
   "metadata": {},
   "source": [
    "Discuss.\n",
    "<!-- We can compare it with the previous one -->\n",
    "<!-- ```{r ex1.4} -->\n",
    "<!-- ( rbind(c(lo=lo0, up=up0), -->\n",
    "<!--       c(lo=lo1, up=up1)) ) -->\n",
    "<!-- ``` -->\n",
    "<!-- and note that the bootstrap one is shorter.  -->\n",
    "\n",
    "\n",
    "### Example 2 - Estimate the expected value of the square root \n",
    "\n",
    "In this example, we have a sample $X_1, \\ldots, X_n$ and are\n",
    "interested in making inference on $\\theta = E_F[ \\sqrt{X} ]$. \n",
    "\n",
    "Here again we will generate the sample ourselves, so \n",
    "we will know the actual true value of $\\theta$. \n",
    "We use  $X \\sim \\chi^2_1$, and thus $\\sqrt{X} \\sim |Z|$,\n",
    "the absolute value of a standard normal \n",
    "random variable $Z \\sim {\\cal N}(0,1)$. Hence, \n",
    "$\\theta = E[ |Z| ] = \\sqrt{2/\\pi} = 0.7978846$. \n",
    "\n",
    "As before, first we generate a sample:"
   ]
  },
  {
   "cell_type": "code",
   "execution_count": null,
   "metadata": {},
   "outputs": [],
   "source": [
    "set.seed(123)\n",
    "n <- 30\n",
    "x <- rchisq(n, df=1)"
   ]
  },
  {
   "cell_type": "markdown",
   "metadata": {},
   "source": [
    "A natural estimator for $\\theta$ is $(1/n) \\sum_{i=1}^n \\sqrt{X}_i$:"
   ]
  },
  {
   "cell_type": "code",
   "execution_count": null,
   "metadata": {},
   "outputs": [],
   "source": [
    "(t0 <- mean(sqrt(x)))"
   ]
  },
  {
   "cell_type": "markdown",
   "metadata": {},
   "source": [
    "Similarly to what we did above, we use $M = 5000$ \n",
    "bootstrap samples to estimate the sampling distribution of \n",
    "$\\hat{\\theta}_n = (1/n) \\sum_{i=1}^n \\sqrt{X}_i$:"
   ]
  },
  {
   "cell_type": "code",
   "execution_count": null,
   "metadata": {},
   "outputs": [],
   "source": [
    "M <- 5000\n",
    "rho <- vector('numeric', M)\n",
    "for(j in 1:M) {\n",
    "  bb <- sample.int(n, repl=TRUE)\n",
    "  rho[j] <- mean(sqrt(x[bb]))\n",
    "}"
   ]
  },
  {
   "cell_type": "markdown",
   "metadata": {},
   "source": [
    "We now  build an\n",
    "approximate 95\\% confidence interval for $\\theta$\n",
    "using the estimated quantiles of the sampling distribution\n",
    "of our estimator:"
   ]
  },
  {
   "cell_type": "code",
   "execution_count": null,
   "metadata": {},
   "outputs": [],
   "source": [
    "lo0 <- t0 - quantile(rho - t0, .975)\n",
    "up0 <- t0 - quantile(rho - t0, .025)\n",
    "lo1 <- quantile(rho, .025)\n",
    "up1 <- quantile(rho, .975)\n",
    "rbind(c(lo=lo0, up=up0), c(lo=lo1, up=up1))"
   ]
  },
  {
   "cell_type": "markdown",
   "metadata": {},
   "source": [
    "Can you think of another method to build an\n",
    "approximate CI for $E[ \\sqrt{X} ]$? \n",
    "\n",
    "\n",
    "### Example 3 - The bootstrap's automatic transformation\n",
    "\n",
    "This example illustrates an important property of the\n",
    "simple bootstrap percentile confidence intervals.\n",
    "Given a sample $X_1, \\ldots, X_n$ we are interested\n",
    "in $\\theta = e^\\mu$ where $\\mu = E(X)$. \n",
    "First, lets  generate a small sample:"
   ]
  },
  {
   "cell_type": "code",
   "execution_count": null,
   "metadata": {},
   "outputs": [],
   "source": [
    "set.seed(123)\n",
    "n <- 15\n",
    "x <- rnorm(n)"
   ]
  },
  {
   "cell_type": "markdown",
   "metadata": {},
   "source": [
    "The MLE estimator is $\\hat{\\theta}_n = e^{\\bar{X}_n}$:"
   ]
  },
  {
   "cell_type": "code",
   "execution_count": null,
   "metadata": {},
   "outputs": [],
   "source": [
    "(t0 <- exp(mean(x)))"
   ]
  },
  {
   "cell_type": "markdown",
   "metadata": {},
   "source": [
    "Use bootstrap to estimate quantiles of the\n",
    "statistic of interest"
   ]
  },
  {
   "cell_type": "code",
   "execution_count": null,
   "metadata": {},
   "outputs": [],
   "source": [
    "M <- 5000\n",
    "rho <- vector('numeric', M)\n",
    "for(j in 1:M) {\n",
    "  bb <- sample.int(n, repl=TRUE)\n",
    "  rho[j] <- exp(mean(x[bb]))\n",
    "}"
   ]
  },
  {
   "cell_type": "markdown",
   "metadata": {},
   "source": [
    "Now use  the estimated quantiles to build an\n",
    "approximate 95\\% confidence interval:"
   ]
  },
  {
   "cell_type": "code",
   "execution_count": null,
   "metadata": {},
   "outputs": [],
   "source": [
    "lo1 <- quantile(rho, .025)\n",
    "up1 <- quantile(rho, .975)\n",
    "c(lo=lo1, up=up1)"
   ]
  },
  {
   "cell_type": "markdown",
   "metadata": {},
   "source": [
    "Compare this with a CLT based CI:"
   ]
  },
  {
   "cell_type": "code",
   "execution_count": null,
   "metadata": {},
   "outputs": [],
   "source": [
    "c(lo=t0 - qnorm(.975)*sd(rho), \n",
    "  up=t0 + qnorm(.975)*sd(rho))"
   ]
  },
  {
   "cell_type": "markdown",
   "metadata": {},
   "source": [
    "Note that the distribution of our estimator\n",
    "is quite asymmetric:"
   ]
  },
  {
   "cell_type": "code",
   "execution_count": null,
   "metadata": {
    "attributes": {
     "classes": [],
     "fig.show": "\"hold\",",
     "id": "",
     "out.width": "\"50%\""
    }
   },
   "outputs": [],
   "source": [
    "hist(rho, main=expression(rho))\n",
    "boxplot(rho, main=expression(rho))"
   ]
  },
  {
   "cell_type": "markdown",
   "metadata": {},
   "source": [
    "So it should not a surprise that these two confidence\n",
    "intervals differ from each other. However, \n",
    "we now that if we transform our estimator with `log`,\n",
    "then, the distribution should be quite symmetric,\n",
    "and we expect both CIs (bootstrap and \"normal\")\n",
    "to be closer to each other. \n",
    "Let us verify this in this example."
   ]
  },
  {
   "cell_type": "code",
   "execution_count": null,
   "metadata": {},
   "outputs": [],
   "source": [
    "t0 <- mean(x)\n",
    "M <- 5000\n",
    "rho <- vector('numeric', M)\n",
    "for(j in 1:M) {\n",
    "  bb <- sample.int(n, repl=TRUE)\n",
    "  rho[j] <- mean(x[bb])\n",
    "}\n",
    "lo1.log <- quantile(rho, .025)\n",
    "up1.log <- quantile(rho, .975)\n",
    "lo2.log <- t0 - qnorm(.975)*sd(rho)\n",
    "up2.log <- t0 + qnorm(.975)*sd(rho)\n",
    "rbind(c(lo=lo1.log, up=up1.log),\n",
    "      c(lo=lo2.log, up=up2.log))"
   ]
  },
  {
   "cell_type": "markdown",
   "metadata": {},
   "source": [
    "Note that now the two CIs are fairly similar.\n",
    "But also note that if we transform \n",
    "these back to the `exp` scale, \n",
    "they all resemble the one we obtained with \n",
    "the bootstrap percentile method:"
   ]
  },
  {
   "cell_type": "code",
   "execution_count": null,
   "metadata": {},
   "outputs": [],
   "source": [
    "rbind(BootLog=c(lo=exp(lo1.log), up=exp(up1.log)),\n",
    "      GausLog=c(lo=exp(lo2.log), up=exp(up2.log)),\n",
    "      Boot = c(lo=lo1, up=up1))"
   ]
  },
  {
   "cell_type": "markdown",
   "metadata": {},
   "source": [
    "In other words, the simple percentile bootstrap\n",
    "method behaved as if it knew which transformation\n",
    "to apply to obtain symmetry, and then transformed\n",
    "the quantiles back. We will discuss this further \n",
    "in class."
   ]
  }
 ],
 "metadata": {
  "kernelspec": {
   "display_name": "R",
   "language": "R",
   "name": "ir"
  },
  "language_info": {
   "codemirror_mode": "r",
   "file_extension": ".r",
   "mimetype": "text/x-r-source",
   "name": "R",
   "pygments_lexer": "r",
   "version": "4.1.2"
  }
 },
 "nbformat": 4,
 "nbformat_minor": 4
}
