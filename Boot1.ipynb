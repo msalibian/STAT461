{
 "cells": [
  {
   "cell_type": "markdown",
   "id": "4764af5a",
   "metadata": {},
   "source": [
    "### Setting up / running Jupyter notebooks\n",
    "\n",
    "You have essentially two choices to use this notebook \"live\":\n",
    " \n",
    "1. Follow the instructions [here](https://jupyter.org/install.html) to install Jupyter on your laptop. You will also need to follow [these instructions](https://www.datacamp.com/community/blog/jupyter-notebook-r) to install the `R kernel` for Jupyter.\n",
    "\n",
    "2. Or, run the notebooks on the [syzygy](https://ubc.syzygy.ca/) server. There are Julia, Python 2, Python 3, and R kernels available (although we will only use the R one). Sign in with your UBC CWL. Once you are logged in, use [this link](https://ubc.syzygy.ca/jupyter/user-redirect/git-pull?repo=https://github.com/msalibian/STAT461) to clone the GitHub repository (STAT461) where these notebooks are stored directly onto your [syzygy](https://ubc.syzygy.ca/) home directory. \n",
    "\n",
    "## A few examples\n",
    "\n",
    "Here we will use a few simple examples to illustrate the use of\n",
    "the bootstrap in practice to construct confidence intervals for\n",
    "a  \"parameter\" of an underlying and uknown distribution. In these\n",
    "synthetic examples, we actually do know the true distribution (and thus,\n",
    "the value of the parameter of interest), so we will be able to assess\n",
    "the level of success of this inferential approach. \n",
    "\n",
    "These examples use the simple bootstrap percentile method to construct\n",
    "confidence intervals. \n",
    "\n",
    "### Example 1 - Estimate the square root of the expected value\n",
    "\n",
    "Consider a sample $X_1$, \\ldots, $X_n$ from an unknown distribution $F$\n",
    "with mean $\\mu = E_F(X) = \\int t dF(t)$. We are interested in\n",
    "building an approximate 95\\% confidence interval for \n",
    "$$\n",
    "\\theta = \\sqrt{\\mu}\n",
    "$$\n",
    "First, lets generate a sample"
   ]
  },
  {
   "cell_type": "code",
   "execution_count": null,
   "id": "7222ad23",
   "metadata": {},
   "outputs": [],
   "source": [
    "n <- 30\n",
    "x <- rexp(n, rate=4)"
   ]
  },
  {
   "cell_type": "markdown",
   "id": "d09ccc07",
   "metadata": {},
   "source": [
    "A natural estimator is"
   ]
  },
  {
   "cell_type": "code",
   "execution_count": null,
   "id": "60a8c3c5",
   "metadata": {},
   "outputs": [],
   "source": [
    "( t0 <- sqrt(mean(x)) )"
   ]
  },
  {
   "cell_type": "markdown",
   "id": "4a1b5fdd",
   "metadata": {},
   "source": [
    "We now use simulation to approximate the  bootstrap estimator\n",
    "of the distribution of $\\sqrt{ \\bar{X}_n}$."
   ]
  },
  {
   "cell_type": "code",
   "execution_count": null,
   "id": "c5189f80",
   "metadata": {},
   "outputs": [],
   "source": [
    "M <- 5000\n",
    "rho <- vector('numeric', M)\n",
    "for(j in 1:M) {\n",
    "  bb <- sample.int(n, repl=TRUE)\n",
    "  # bb <- sample(1:n, repl=TRUE)\n",
    "  rho[j] <- sqrt(mean(x[bb]))\n",
    "}\n",
    "lo0 <- t0 - quantile(rho - t0, .975)\n",
    "up0 <- t0 - quantile(rho - t0, .025)\n",
    "as.numeric(c(lo=lo0, up=up0))\n",
    "# \n",
    "# lo0 <- t0 - (quantile(rho - t0, .975) - t0)\n",
    "# up0 <- t0 - (quantile(rho - t0, .025) - t0)"
   ]
  },
  {
   "cell_type": "markdown",
   "id": "e1ec768e",
   "metadata": {},
   "source": [
    "A CLT-type approximation yields the CI"
   ]
  },
  {
   "cell_type": "code",
   "execution_count": null,
   "id": "02166c66",
   "metadata": {},
   "outputs": [],
   "source": [
    "lo1 <- t0 - qnorm(.975)*sd(x)/2/mean(x)/sqrt(n)\n",
    "up1 <- t0 + qnorm(.975)*sd(x)/2/mean(x)/sqrt(n)"
   ]
  },
  {
   "cell_type": "markdown",
   "id": "97a9bf36",
   "metadata": {},
   "source": [
    "We can compare it with the previous one"
   ]
  },
  {
   "cell_type": "code",
   "execution_count": null,
   "id": "753ca0a5",
   "metadata": {},
   "outputs": [],
   "source": [
    "( rbind(c(lo=lo0, up=up0),\n",
    "      c(lo=lo1, up=up1)) )"
   ]
  },
  {
   "cell_type": "markdown",
   "id": "4d2516ea",
   "metadata": {},
   "source": [
    "### Example 2 - Estimate the expected value of the square root \n",
    "\n",
    "In this example, we have a sample $X_1, \\ldots, X_n$ and are\n",
    "interested in $\\theta = E_F[ \\sqrt{X} ]$. \n",
    "\n",
    "Because we simulate these observations, we will have \n",
    "$X_i \\sim \\chi^2_1$, and thus $\\sqrt{X} \\sim |Z|$\n",
    "where $Z \\sim {\\cal N}(0,1)$. We  have\n",
    "$\\theta = E[ |Z| ] = \\sqrt{2/pi} = 0.7978846$. \n",
    "\n",
    "First generate a sample"
   ]
  },
  {
   "cell_type": "code",
   "execution_count": null,
   "id": "01a6411e",
   "metadata": {},
   "outputs": [],
   "source": [
    "set.seed(123)\n",
    "n <- 30\n",
    "x <- rchisq(n, df=1)"
   ]
  },
  {
   "cell_type": "markdown",
   "id": "40379b8f",
   "metadata": {},
   "source": [
    "A natural estimator is $(1/n) \\sum_{i=1}^n \\sqrt{X}_i$:"
   ]
  },
  {
   "cell_type": "code",
   "execution_count": null,
   "id": "8a646eca",
   "metadata": {},
   "outputs": [],
   "source": [
    "(t0 <- mean(sqrt(x)))"
   ]
  },
  {
   "cell_type": "markdown",
   "id": "081f8c3b",
   "metadata": {},
   "source": [
    "We now use 5000 bootstrap samples to estimate the \n",
    "distribution of $(1/n) \\sum_{i=1}^n \\sqrt{X}_i$:"
   ]
  },
  {
   "cell_type": "code",
   "execution_count": null,
   "id": "6eea5b81",
   "metadata": {},
   "outputs": [],
   "source": [
    "M <- 5000\n",
    "rho <- vector('numeric', M)\n",
    "for(j in 1:M) {\n",
    "  bb <- sample.int(n, repl=TRUE)\n",
    "  rho[j] <- mean(sqrt(x[bb]))\n",
    "}"
   ]
  },
  {
   "cell_type": "markdown",
   "id": "2edd1d77",
   "metadata": {},
   "source": [
    "We can now use the estimated quantiles to build an\n",
    "approximate 95\\% confidence interval:"
   ]
  },
  {
   "cell_type": "code",
   "execution_count": null,
   "id": "9d964b09",
   "metadata": {},
   "outputs": [],
   "source": [
    "lo0 <- t0 - quantile(rho - t0, .975)\n",
    "up0 <- t0 - quantile(rho - t0, .025)\n",
    "as.numeric(c(lo=lo0, up=up0))"
   ]
  },
  {
   "cell_type": "markdown",
   "id": "1b449d97",
   "metadata": {},
   "source": [
    "Can you think of another method to build an\n",
    "approximate CI for $E[ \\sqrt{X} ]$? \n",
    "\n",
    "\n",
    "### Example 3 -  Mean of a ratio of dependent variables \n",
    "\n",
    "We generate a small sample of correlated variables\n",
    "$X$ and $Y$:"
   ]
  },
  {
   "cell_type": "code",
   "execution_count": null,
   "id": "8fdbf2db",
   "metadata": {},
   "outputs": [],
   "source": [
    "set.seed(123)\n",
    "n <- 30\n",
    "la <- rchisq(n, df=1)\n",
    "x <- rexp(n, rate=1) + la\n",
    "y <- runif(n, min=2, max=3) + la"
   ]
  },
  {
   "cell_type": "markdown",
   "id": "add37018",
   "metadata": {},
   "source": [
    "We are interested in $E[ X/Y ]$. Note that $P( Y > 0 ) = 1$. \n",
    "A natural point estimator is"
   ]
  },
  {
   "cell_type": "code",
   "execution_count": null,
   "id": "df78f2f7",
   "metadata": {},
   "outputs": [],
   "source": [
    "(t0 <- mean(x/y))"
   ]
  },
  {
   "cell_type": "markdown",
   "id": "153c0ea2",
   "metadata": {},
   "source": [
    "Use bootstrap to estimate quantiles of the\n",
    "statistic of interest"
   ]
  },
  {
   "cell_type": "code",
   "execution_count": null,
   "id": "de842fec",
   "metadata": {},
   "outputs": [],
   "source": [
    "M <- 5000\n",
    "rho <- vector('numeric', M)\n",
    "for(j in 1:M) {\n",
    "  bb <- sample.int(n, repl=TRUE)\n",
    "  rho[j] <- mean(x[bb]/y[bb])\n",
    "}"
   ]
  },
  {
   "cell_type": "markdown",
   "id": "a1ddf472",
   "metadata": {},
   "source": [
    "We can use $E^*[ X/Y ]$ as an estimator for\n",
    "$E[ X/ Y]$ and thus an estimator of the bias\n",
    "is"
   ]
  },
  {
   "cell_type": "code",
   "execution_count": null,
   "id": "b5f43987",
   "metadata": {},
   "outputs": [],
   "source": [
    "mean(rho) - t0 "
   ]
  },
  {
   "cell_type": "markdown",
   "id": "09bc7c4d",
   "metadata": {},
   "source": [
    "and an estimator of the variance of \n",
    "$(1/n) \\sum_{i=1}^n X_i/Y_i$"
   ]
  },
  {
   "cell_type": "code",
   "execution_count": null,
   "id": "d43d1ea2",
   "metadata": {},
   "outputs": [],
   "source": [
    "var(rho)"
   ]
  },
  {
   "cell_type": "markdown",
   "id": "3669cc9c",
   "metadata": {},
   "source": [
    "We can now use the estimated quantiles to build an\n",
    "approximate 95\\% confidence interval:"
   ]
  },
  {
   "cell_type": "code",
   "execution_count": null,
   "id": "a6cf8fb5",
   "metadata": {},
   "outputs": [],
   "source": [
    "lo0 <- t0 - quantile(rho - t0, .975)\n",
    "up0 <- t0 - quantile(rho - t0, .025)\n",
    "as.numeric(c(lo=lo0, up=up0))"
   ]
  },
  {
   "cell_type": "markdown",
   "id": "81e71431",
   "metadata": {},
   "source": [
    "<!-- These are simple quantile CI's.  -->\n",
    "\n",
    "<!-- Better (bias corrected) quantile estimators: -->\n",
    "\n",
    "<!-- ### Example 4 - CI for a correlation -->\n",
    "<!-- Generate correlated $X$ and $Y$: -->\n",
    "<!-- ```{r ex4.0} -->\n",
    "<!-- set.seed(123) -->\n",
    "<!-- n <- 100 -->\n",
    "<!-- la <- rchisq(n, df=1) - 1 -->\n",
    "<!-- x <- rexp(n, rate=1) + la -->\n",
    "<!-- y <- runif(n, min=-1, max=1) + la -->\n",
    "<!-- ``` -->\n",
    "<!-- Now compute the bootstrapped estimators -->\n",
    "<!-- ```{r ex4.1} -->\n",
    "<!-- M <- 5000 -->\n",
    "<!-- rho <- vector('numeric', M) -->\n",
    "<!-- for(j in 1:M) { -->\n",
    "<!--   bb <- sample.int(n, repl=TRUE) -->\n",
    "<!--   rho[j] <- cor(x[bb], y[bb]) -->\n",
    "<!-- } -->\n",
    "<!-- ``` -->\n",
    "<!-- Compute the quantiles -->\n",
    "<!-- ```{r ex4.2} -->\n",
    "<!-- t0 <- cor(x, y) -->\n",
    "<!-- lo0 <- t0 - (quantile(rho, .975) - t0) -->\n",
    "<!-- up0 <- t0 - (quantile(rho, .025) - t0) -->\n",
    "<!-- ``` -->\n",
    "<!-- The normal (transformed) approach: -->\n",
    "<!-- ```{r ex4.3} -->\n",
    "<!-- zz <- log((1+t0)/(1-t0))/2 -->\n",
    "<!-- lo <- zz - qnorm(.975)/sqrt(n-3) -->\n",
    "<!-- up <- zz + qnorm(.975)/sqrt(n-3) -->\n",
    "<!-- lo2 <- (exp(2*lo)-1)/(exp(2*lo)+1) -->\n",
    "<!-- up2 <- (exp(2*up)-1)/(exp(2*up)+1) -->\n",
    "<!-- ``` -->\n",
    "<!-- The bootstrap one isn't really better -->\n",
    "<!-- ```{r ex4.4} -->\n",
    "<!-- rbind(c(lo0, up0),  -->\n",
    "<!--       c(lo2, up2)) -->\n",
    "<!-- ``` -->\n",
    "\n",
    "<!-- We can do better: -->\n",
    "<!-- ```{r ex4.5} -->\n",
    "<!-- (tmp <- mean(rho <= t0)) -->\n",
    "<!-- (alph <- pnorm(qnorm(.025) + 2*qnorm(tmp))) -->\n",
    "<!-- lo3 <- t0 - (quantile(rho, 1-alph) - t0) -->\n",
    "<!-- up3 <- t0 - (quantile(rho, alph) - t0) -->\n",
    "<!-- rbind(c(lo0, up0),  -->\n",
    "<!--       c(lo2, up2), -->\n",
    "<!--       c(lo3, up3)) -->\n",
    "<!-- ``` -->\n",
    "\n",
    "\n",
    "<!-- M <- 1000 -->\n",
    "<!-- lev5 <- lev4 <- lev3 <- lev2 <- lev <- 0 -->\n",
    "<!-- len5 <- len4 <- len3 <- len2 <- len <- 0 -->\n",
    "<!-- ff <- function(a, x) 1/mean(x[a]) -->\n",
    "<!-- n <- 10 -->\n",
    "<!-- lambda0 <- 5 -->\n",
    "<!-- a <- qnorm(.025) -->\n",
    "<!-- b <- qnorm(.975) -->\n",
    "\n",
    "<!-- for(j in 1:M) { -->\n",
    "\n",
    "<!--   set.seed(123 + 17*j) -->\n",
    "\n",
    "<!--   x <- rexp(n, rate=lambda0) -->\n",
    "\n",
    "<!--   # Estimate quantiles -->\n",
    "<!--   B <- 5000 -->\n",
    "<!--   bootsam <- matrix(sample.int(n, size=B*n, replace=TRUE), B, n) -->\n",
    "\n",
    "<!--   tstar <- apply(bootsam, 1, ff, x=x) -->\n",
    "\n",
    "<!--   t0 <- 1/mean(x) -->\n",
    "\n",
    "<!--   lo <- t0 - quantile(tstar, .975) + t0 -->\n",
    "<!--   up <- t0 - quantile(tstar, .025) + t0 -->\n",
    "<!--   if((lambda0 > lo ) & (lambda0 < up) ) lev <- lev + 1 -->\n",
    "\n",
    "<!--   len <- len + (up - lo) -->\n",
    "\n",
    "<!--   bootsam <- matrix(rexp(n*B, rate=1/mean(x)), B, n) -->\n",
    "\n",
    "<!--   tstar <- apply(bootsam, 1, function(a) 1/mean(a)) -->\n",
    "\n",
    "<!--   lo <- t0 - quantile(tstar, .975) + t0 -->\n",
    "<!--   up <- t0 - quantile(tstar, .025) + t0 -->\n",
    "<!--   if((lambda0 > lo ) & (lambda0 < up) ) lev2 <- lev2 + 1 -->\n",
    "<!--   len2 <- len2 + (up - lo) -->\n",
    "\n",
    "\n",
    "<!--   up <- t0*(1-a/sqrt(n)) -->\n",
    "<!--   lo <- t0*(1-b/sqrt(n)) -->\n",
    "<!--   if( (lambda0 < up ) & (lambda0 > lo ) ) lev3 <- lev3 + 1 -->\n",
    "<!--   len3 <- len3 + (up - lo) -->\n",
    "\n",
    "<!--   up <-t0*(1+b/sqrt(n)) -->\n",
    "<!--   lo <- t0*(1+a/sqrt(n)) -->\n",
    "<!--   if( (lambda0 < up ) & (lambda0 > lo ) ) lev4 <- lev4 + 1 -->\n",
    "<!--   len4 <- len4 + (up - lo) -->\n",
    "\n",
    "<!--   up <- (1/t0) - a*sd(x)/sqrt(n) -->\n",
    "<!--   lo <- (1/t0) - b*sd(x)/sqrt(n) -->\n",
    "<!--   if( (lambda0 < (1/lo) ) & (lambda0 > (1/up) ) ) lev5 <- lev5 + 1 -->\n",
    "<!--   len5 <- len5 + (1/lo - 1/up) -->\n",
    "\n",
    "\n",
    "<!--   # print(c(it=j, bnp=lev/j, bp=lev2/j, clt=lev3/j, clt2=lev4/j))   -->\n",
    "<!--   print(c(it=j, bnp=len/j, bp=len2/j, clt=len3/j, clt2=len4/j, clt3=len5/j))   -->\n",
    "\n",
    "<!-- } -->\n",
    "\n",
    "<!-- print(c(bnp=lev/M, bp=lev2/M, clt=lev3/M, clt2=lev4/M, clt3=lev5/M))   -->\n",
    "<!-- print(c(bnp=len/M, bp=len2/M, clt=len3/M, clt2=len4/M, clt3=len5/M))   -->\n",
    "\n",
    "\n",
    "\n",
    "<!-- ### CI for a correlation -->\n",
    "\n",
    "<!-- set.seed(123) -->\n",
    "<!-- n <- 30 -->\n",
    "<!-- la <- rchisq(n, df=1) - 1 -->\n",
    "<!-- x <- rexp(n, rate=1) + la -->\n",
    "<!-- y <- runif(n, min=-1, max=1) + la -->\n",
    "\n",
    "<!-- M <- 5000 -->\n",
    "<!-- rho <- vector('numeric', M) -->\n",
    "<!-- for(j in 1:M) { -->\n",
    "<!--   bb <- sample.int(n, repl=TRUE) -->\n",
    "<!--   rho[j] <- cor(x[bb], y[bb]) -->\n",
    "<!-- } -->\n",
    "\n",
    "<!-- t0 <- cor(x, y) -->\n",
    "<!-- lo0 <- t0 - (quantile(rho, .975) - t0) -->\n",
    "<!-- up0 <- t0 - (quantile(rho, .025) - t0) -->\n",
    "\n",
    "\n",
    "<!-- zz <- log((1+t0)/(1-t0))/2 -->\n",
    "<!-- lo <- zz - qnorm(.975)/sqrt(n-3) -->\n",
    "<!-- up <- zz + qnorm(.975)/sqrt(n-3) -->\n",
    "\n",
    "<!-- lo2 <- (exp(2*lo)-1)/(exp(2*lo)+1) -->\n",
    "<!-- up2 <- (exp(2*up)-1)/(exp(2*up)+1) -->\n",
    "\n",
    "<!-- print(c(lo0, up0)) -->\n",
    "<!-- print(c(lo2, up2)) -->\n",
    "\n",
    "\n",
    "\n",
    "<!-- ## Mean of a ratio of dependent variables -->\n",
    "\n",
    "\n",
    "\n",
    "<!-- set.seed(123) -->\n",
    "<!-- n <- 30 -->\n",
    "<!-- la <- rchisq(n, df=1) - 1 -->\n",
    "<!-- x <- rexp(n, rate=1) + la -->\n",
    "<!-- y <- runif(n, min=2, max=3) + la -->\n",
    "\n",
    "<!-- t0 <- mean(x/y) -->\n",
    "\n",
    "<!-- M <- 5000 -->\n",
    "<!-- rho <- vector('numeric', M) -->\n",
    "<!-- for(j in 1:M) { -->\n",
    "<!--   bb <- sample.int(n, repl=TRUE) -->\n",
    "<!--   rho[j] <- mean(x[bb]/y[bb]) -->\n",
    "<!-- } -->\n",
    "\n",
    "<!-- # bias? -->\n",
    "<!-- mean(rho) - t0 -->\n",
    "\n",
    "<!-- # variance -->\n",
    "<!-- var(rho) -->\n",
    "\n",
    "\n",
    "<!-- ## mean of sqrt(X^2_1) = |N(0,1)| -->\n",
    "<!-- # sigma*sqrt(2/pi)*exp(-mu^2/(2 sigma^2)) + mu(1-2*pnorm(-mu/sigma)) -->\n",
    "<!-- # mu=0, sigma=1 -->\n",
    "<!-- # sqrt(2/pi) = 0.7978846 -->\n",
    "\n",
    "<!-- set.seed(123) -->\n",
    "<!-- n <- 30 -->\n",
    "<!-- x <- rchisq(n, df=1) -->\n",
    "\n",
    "<!-- t0 <- mean(sqrt(x)) -->\n",
    "\n",
    "<!-- M <- 5000 -->\n",
    "<!-- rho <- vector('numeric', M) -->\n",
    "<!-- for(j in 1:M) { -->\n",
    "<!--   bb <- sample.int(n, repl=TRUE) -->\n",
    "<!--   rho[j] <- mean(sqrt(x[bb])) -->\n",
    "<!-- } -->\n",
    "\n",
    "<!-- lo0 <- t0 - (quantile(rho, .975) - t0) -->\n",
    "<!-- up0 <- t0 - (quantile(rho, .025) - t0) -->\n",
    "<!-- c(lo=lo0, up=up0) -->\n",
    "\n",
    "<!-- # an alternative method? -->\n",
    "\n",
    "<!-- ## sqrt(E(X)) -->\n",
    "\n",
    "<!-- set.seed(123) -->\n",
    "<!-- n <- 30 -->\n",
    "<!-- x <- rexp(n, rate=4) -->\n",
    "\n",
    "<!-- t0 <- sqrt(mean(x)) -->\n",
    "\n",
    "<!-- M <- 5000 -->\n",
    "<!-- rho <- vector('numeric', M) -->\n",
    "<!-- for(j in 1:M) { -->\n",
    "<!--   bb <- sample.int(n, repl=TRUE) -->\n",
    "<!--   rho[j] <- sqrt(mean(x[bb])) -->\n",
    "<!-- } -->\n",
    "\n",
    "<!-- lo0 <- t0 - (quantile(rho, .975) - t0) -->\n",
    "<!-- up0 <- t0 - (quantile(rho, .025) - t0) -->\n",
    "\n",
    "<!-- lo1 <- t0 - qnorm(.975)*sd(x)/2/mean(x)/sqrt(n) -->\n",
    "<!-- up1 <- t0 + qnorm(.975)*sd(x)/2/mean(x)/sqrt(n) -->\n",
    "<!-- rbind(c(lo=lo0, up=up0), -->\n",
    "<!--       c(lo=lo1, up=up1)) -->"
   ]
  }
 ],
 "metadata": {
  "kernelspec": {
   "display_name": "R",
   "language": "R",
   "name": "ir"
  },
  "language_info": {
   "codemirror_mode": "r",
   "file_extension": ".r",
   "mimetype": "text/x-r-source",
   "name": "R",
   "pygments_lexer": "r",
   "version": "4.1.0"
  }
 },
 "nbformat": 4,
 "nbformat_minor": 5
}
