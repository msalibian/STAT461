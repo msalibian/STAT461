{
 "cells": [
  {
   "cell_type": "markdown",
   "id": "47bc8f82",
   "metadata": {},
   "source": [
    "## A few examples\n",
    "\n",
    "In these notes we will use a few simple examples to illustrate \n",
    "how to use the bootstrap in practice to construct confidence intervals for\n",
    "a  \"parameter\" of an underlying and unknown distribution. These\n",
    "first examples are very simple and only meant to \"fix ideas\" about\n",
    "how the use of bootstrap looks outside the blackboard. Furthermore, \n",
    "in these synthetic examples we actually know the true distribution \n",
    "that generated the sample (and thus,\n",
    "we also know the value of the parameter of interest). This will \n",
    "allow us to assess\n",
    "the level of success of this inferential approach. \n",
    "\n",
    "In these examples we will only use the simplest bootstrap \n",
    "percentile method to construct confidence intervals. \n",
    "\n",
    "### Example 1 - Estimate the square root of the expected value\n",
    "\n",
    "Consider a sample $X_1$, \\ldots, $X_n$ from an unknown distribution $F$.\n",
    "We assume that the mean $\\mu = E_F(X)$ exists and are interested in\n",
    "building an approximate 95\\% confidence interval for its square\n",
    "root: $\\theta = \\sqrt{\\mu}$. \n",
    "\n",
    "Here we first generate a sample of size $n = 30$."
   ]
  },
  {
   "cell_type": "code",
   "execution_count": 22,
   "id": "88da4df5",
   "metadata": {},
   "outputs": [],
   "source": [
    "n <- 30\n",
    "x <- rexp(n, rate=4)"
   ]
  },
  {
   "cell_type": "markdown",
   "id": "88e0d591",
   "metadata": {},
   "source": [
    "Note that for these data, $\\theta = 1/2$. A natural estimator \n",
    "for $\\sqrt{\\mu}$ is the square root of the sample mean\n",
    "(e.g. this is the MLE of $\\theta$):"
   ]
  },
  {
   "cell_type": "code",
   "execution_count": 23,
   "id": "d621d338",
   "metadata": {},
   "outputs": [
    {
     "data": {
      "text/html": [
       "0.563567837179827"
      ],
      "text/latex": [
       "0.563567837179827"
      ],
      "text/markdown": [
       "0.563567837179827"
      ],
      "text/plain": [
       "[1] 0.5635678"
      ]
     },
     "metadata": {},
     "output_type": "display_data"
    }
   ],
   "source": [
    "( t0 <- sqrt(mean(x)) )"
   ]
  },
  {
   "cell_type": "markdown",
   "id": "71a10395",
   "metadata": {},
   "source": [
    "We will not estimate the distribution of $\\sqrt{ \\bar{X}_n}$\n",
    "using the bootstrap. For this, we sample a large number \n",
    "$M = 5000$ of samples of size $n = 30$ from \n",
    "the empirical distribution $\\hat{F}_n$. As we discussed \n",
    "in class, drawing a sample from the empirical distribution\n",
    "is equivalent to drawing $n$ independent observations \n",
    "from the set $\\left\\{ X_1, \\ldots, X_n \\right\\}$\n",
    "with replacement. In `R` we can do this by simply\n",
    "drawing a sample of the indices, i.e. we \n",
    "draw $n$ points (with replacement) from the set\n",
    "$\\left\\{1, 2, \\ldots, n \\right\\}$ and re-compute\n",
    "the estimator with the corresponding points in the sample. \n",
    "Note that bootstrap samples may (and typically do) contain\n",
    "repeated observations (even if the \"original\" sample does not). \n",
    "\n",
    "Here is one bootstrap sample, and its corresponding \n",
    "re-computed statistic:"
   ]
  },
  {
   "cell_type": "code",
   "execution_count": 24,
   "id": "e91dfc2c",
   "metadata": {},
   "outputs": [
    {
     "data": {
      "text/html": [
       "<style>\n",
       ".list-inline {list-style: none; margin:0; padding: 0}\n",
       ".list-inline>li {display: inline-block}\n",
       ".list-inline>li:not(:last-child)::after {content: \"\\00b7\"; padding: 0 .5ex}\n",
       "</style>\n",
       "<ol class=list-inline><li>1</li><li>1</li><li>3</li><li>3</li><li>4</li><li>4</li><li>6</li><li>6</li><li>7</li><li>7</li><li>8</li><li>10</li><li>12</li><li>12</li><li>12</li><li>14</li><li>14</li><li>15</li><li>17</li><li>19</li><li>20</li><li>20</li><li>22</li><li>23</li><li>24</li><li>25</li><li>25</li><li>27</li><li>28</li><li>29</li></ol>\n"
      ],
      "text/latex": [
       "\\begin{enumerate*}\n",
       "\\item 1\n",
       "\\item 1\n",
       "\\item 3\n",
       "\\item 3\n",
       "\\item 4\n",
       "\\item 4\n",
       "\\item 6\n",
       "\\item 6\n",
       "\\item 7\n",
       "\\item 7\n",
       "\\item 8\n",
       "\\item 10\n",
       "\\item 12\n",
       "\\item 12\n",
       "\\item 12\n",
       "\\item 14\n",
       "\\item 14\n",
       "\\item 15\n",
       "\\item 17\n",
       "\\item 19\n",
       "\\item 20\n",
       "\\item 20\n",
       "\\item 22\n",
       "\\item 23\n",
       "\\item 24\n",
       "\\item 25\n",
       "\\item 25\n",
       "\\item 27\n",
       "\\item 28\n",
       "\\item 29\n",
       "\\end{enumerate*}\n"
      ],
      "text/markdown": [
       "1. 1\n",
       "2. 1\n",
       "3. 3\n",
       "4. 3\n",
       "5. 4\n",
       "6. 4\n",
       "7. 6\n",
       "8. 6\n",
       "9. 7\n",
       "10. 7\n",
       "11. 8\n",
       "12. 10\n",
       "13. 12\n",
       "14. 12\n",
       "15. 12\n",
       "16. 14\n",
       "17. 14\n",
       "18. 15\n",
       "19. 17\n",
       "20. 19\n",
       "21. 20\n",
       "22. 20\n",
       "23. 22\n",
       "24. 23\n",
       "25. 24\n",
       "26. 25\n",
       "27. 25\n",
       "28. 27\n",
       "29. 28\n",
       "30. 29\n",
       "\n",
       "\n"
      ],
      "text/plain": [
       " [1]  1  1  3  3  4  4  6  6  7  7  8 10 12 12 12 14 14 15 17 19 20 20 22 23 24\n",
       "[26] 25 25 27 28 29"
      ]
     },
     "metadata": {},
     "output_type": "display_data"
    }
   ],
   "source": [
    "bb <- sample.int(n, repl=TRUE)\n",
    "sort(bb)"
   ]
  },
  {
   "cell_type": "markdown",
   "id": "1f2e3f82",
   "metadata": {},
   "source": [
    "Here are the correponding observations"
   ]
  },
  {
   "cell_type": "code",
   "execution_count": 25,
   "id": "d5df2686",
   "metadata": {},
   "outputs": [
    {
     "data": {
      "text/html": [
       "<style>\n",
       ".list-inline {list-style: none; margin:0; padding: 0}\n",
       ".list-inline>li {display: inline-block}\n",
       ".list-inline>li:not(:last-child)::after {content: \"\\00b7\"; padding: 0 .5ex}\n",
       "</style>\n",
       "<ol class=list-inline><li>0.103329490113455</li><li>0.0906333852326497</li><li>0.553586063372881</li><li>0.748428676708174</li><li>0.334601150815117</li><li>0.736114454354308</li><li>0.654257856743568</li><li>0.350231395464193</li><li>0.10353509534616</li><li>0.122991357115097</li><li>0.0577966242939491</li><li>0.334601150815117</li><li>0.700474649625731</li><li>0.0577966242939491</li><li>0.227253929701376</li><li>0.100330774788745</li><li>0.0636863412801176</li><li>0.0785481163246394</li><li>0.0636863412801176</li><li>0.700474649625731</li><li>0.0906333852326497</li><li>0.736114454354308</li><li>0.715701366414503</li><li>0.122991357115097</li><li>0.736114454354308</li><li>0.30768865578689</li><li>0.0873066632553449</li><li>0.715701366414503</li><li>0.455389685907817</li><li>0.654257856743568</li></ol>\n"
      ],
      "text/latex": [
       "\\begin{enumerate*}\n",
       "\\item 0.103329490113455\n",
       "\\item 0.0906333852326497\n",
       "\\item 0.553586063372881\n",
       "\\item 0.748428676708174\n",
       "\\item 0.334601150815117\n",
       "\\item 0.736114454354308\n",
       "\\item 0.654257856743568\n",
       "\\item 0.350231395464193\n",
       "\\item 0.10353509534616\n",
       "\\item 0.122991357115097\n",
       "\\item 0.0577966242939491\n",
       "\\item 0.334601150815117\n",
       "\\item 0.700474649625731\n",
       "\\item 0.0577966242939491\n",
       "\\item 0.227253929701376\n",
       "\\item 0.100330774788745\n",
       "\\item 0.0636863412801176\n",
       "\\item 0.0785481163246394\n",
       "\\item 0.0636863412801176\n",
       "\\item 0.700474649625731\n",
       "\\item 0.0906333852326497\n",
       "\\item 0.736114454354308\n",
       "\\item 0.715701366414503\n",
       "\\item 0.122991357115097\n",
       "\\item 0.736114454354308\n",
       "\\item 0.30768865578689\n",
       "\\item 0.0873066632553449\n",
       "\\item 0.715701366414503\n",
       "\\item 0.455389685907817\n",
       "\\item 0.654257856743568\n",
       "\\end{enumerate*}\n"
      ],
      "text/markdown": [
       "1. 0.103329490113455\n",
       "2. 0.0906333852326497\n",
       "3. 0.553586063372881\n",
       "4. 0.748428676708174\n",
       "5. 0.334601150815117\n",
       "6. 0.736114454354308\n",
       "7. 0.654257856743568\n",
       "8. 0.350231395464193\n",
       "9. 0.10353509534616\n",
       "10. 0.122991357115097\n",
       "11. 0.0577966242939491\n",
       "12. 0.334601150815117\n",
       "13. 0.700474649625731\n",
       "14. 0.0577966242939491\n",
       "15. 0.227253929701376\n",
       "16. 0.100330774788745\n",
       "17. 0.0636863412801176\n",
       "18. 0.0785481163246394\n",
       "19. 0.0636863412801176\n",
       "20. 0.700474649625731\n",
       "21. 0.0906333852326497\n",
       "22. 0.736114454354308\n",
       "23. 0.715701366414503\n",
       "24. 0.122991357115097\n",
       "25. 0.736114454354308\n",
       "26. 0.30768865578689\n",
       "27. 0.0873066632553449\n",
       "28. 0.715701366414503\n",
       "29. 0.455389685907817\n",
       "30. 0.654257856743568\n",
       "\n",
       "\n"
      ],
      "text/plain": [
       " [1] 0.10332949 0.09063339 0.55358606 0.74842868 0.33460115 0.73611445\n",
       " [7] 0.65425786 0.35023140 0.10353510 0.12299136 0.05779662 0.33460115\n",
       "[13] 0.70047465 0.05779662 0.22725393 0.10033077 0.06368634 0.07854812\n",
       "[19] 0.06368634 0.70047465 0.09063339 0.73611445 0.71570137 0.12299136\n",
       "[25] 0.73611445 0.30768866 0.08730666 0.71570137 0.45538969 0.65425786"
      ]
     },
     "metadata": {},
     "output_type": "display_data"
    }
   ],
   "source": [
    "x[bb]"
   ]
  },
  {
   "cell_type": "markdown",
   "id": "6c0df58c",
   "metadata": {},
   "source": [
    "and the associated estimator"
   ]
  },
  {
   "cell_type": "code",
   "execution_count": 26,
   "id": "8644281e",
   "metadata": {},
   "outputs": [
    {
     "data": {
      "text/html": [
       "0.600118248705316"
      ],
      "text/latex": [
       "0.600118248705316"
      ],
      "text/markdown": [
       "0.600118248705316"
      ],
      "text/plain": [
       "[1] 0.6001182"
      ]
     },
     "metadata": {},
     "output_type": "display_data"
    }
   ],
   "source": [
    "sqrt(mean(x[bb]))"
   ]
  },
  {
   "cell_type": "markdown",
   "id": "a20a5e76",
   "metadata": {},
   "source": [
    "We now do this $M = 5000$ times, and collect all the recomputed\n",
    "estimators in a vector. Note that there are more efficient ways \n",
    "of doing these calculations, but here I am giving preference to\n",
    "transparency over computational efficiency."
   ]
  },
  {
   "cell_type": "code",
   "execution_count": 27,
   "id": "c0d551d5",
   "metadata": {},
   "outputs": [],
   "source": [
    "M <- 5000\n",
    "rho <- vector('numeric', M)\n",
    "for(j in 1:M) {\n",
    "  bb <- sample.int(n, repl=TRUE)\n",
    "  # bb <- sample(1:n, repl=TRUE)\n",
    "  rho[j] <- sqrt(mean(x[bb]))\n",
    "}"
   ]
  },
  {
   "cell_type": "markdown",
   "id": "7d6a3760",
   "metadata": {},
   "source": [
    "We can look at a histogram and boxplot of the recomputed\n",
    "estimators. These are bootstrap estimators of the true\n",
    "sampling distribution of $\\hat{\\theta}_n = \\sqrt{ \\bar{X}_n }$:"
   ]
  },
  {
   "cell_type": "code",
   "execution_count": 28,
   "id": "d9cef7c8",
   "metadata": {
    "attributes": {
     "classes": [],
     "fig.show": "\"hold\",",
     "id": "",
     "out.width": "\"50%\""
    }
   },
   "outputs": [
    {
     "data": {
      "image/png": "[encoded data removed]",
      "text/plain": [
       "Plot with title \"rho\""
      ]
     },
     "metadata": {
      "image/png": {
       "height": 420,
       "width": 420
      }
     },
     "output_type": "display_data"
    },
    {
     "data": {
      "image/png": "[encoded data removed]",
      "text/plain": [
       "Plot with title \"rho\""
      ]
     },
     "metadata": {
      "image/png": {
       "height": 420,
       "width": 420
      }
     },
     "output_type": "display_data"
    }
   ],
   "source": [
    "hist(rho, main=expression(rho))\n",
    "boxplot(rho, main=expression(rho))"
   ]
  },
  {
   "cell_type": "markdown",
   "id": "dd1a9a79",
   "metadata": {},
   "source": [
    "We now use the quantiles from the centered bootstrap \n",
    "distribution to build an approximate 95\\% confidence\n",
    "interval for $\\theta = \\sqrt{\\mu}$:"
   ]
  },
  {
   "cell_type": "code",
   "execution_count": 29,
   "id": "1a699932",
   "metadata": {},
   "outputs": [
    {
     "data": {
      "text/html": [
       "<table class=\"dataframe\">\n",
       "<caption>A matrix: 2 × 2 of type dbl</caption>\n",
       "<thead>\n",
       "\t<tr><th scope=col>lo.97.5%</th><th scope=col>up.2.5%</th></tr>\n",
       "</thead>\n",
       "<tbody>\n",
       "\t<tr><td>0.4818190</td><td>0.6527454</td></tr>\n",
       "\t<tr><td>0.4743902</td><td>0.6453167</td></tr>\n",
       "</tbody>\n",
       "</table>\n"
      ],
      "text/latex": [
       "A matrix: 2 × 2 of type dbl\n",
       "\\begin{tabular}{ll}\n",
       " lo.97.5\\% & up.2.5\\%\\\\\n",
       "\\hline\n",
       "\t 0.4818190 & 0.6527454\\\\\n",
       "\t 0.4743902 & 0.6453167\\\\\n",
       "\\end{tabular}\n"
      ],
      "text/markdown": [
       "\n",
       "A matrix: 2 × 2 of type dbl\n",
       "\n",
       "| lo.97.5% | up.2.5% |\n",
       "|---|---|\n",
       "| 0.4818190 | 0.6527454 |\n",
       "| 0.4743902 | 0.6453167 |\n",
       "\n"
      ],
      "text/plain": [
       "     lo.97.5%  up.2.5%  \n",
       "[1,] 0.4818190 0.6527454\n",
       "[2,] 0.4743902 0.6453167"
      ]
     },
     "metadata": {},
     "output_type": "display_data"
    }
   ],
   "source": [
    "lo0 <- t0 - quantile(rho - t0, .975)\n",
    "up0 <- t0 - quantile(rho - t0, .025)\n",
    "lo4 <- quantile(rho, .025)\n",
    "up4 <- quantile(rho, .975)\n",
    "rbind(c(lo=lo0, up=up0), c(lo=lo4, up=up4))"
   ]
  },
  {
   "cell_type": "markdown",
   "id": "2585a949",
   "metadata": {},
   "source": [
    "Alternatively, we can use the CLT and the \"delta\" method\n",
    "to derive a asymptotic CI which yields:"
   ]
  },
  {
   "cell_type": "code",
   "execution_count": 30,
   "id": "cfeef441",
   "metadata": {},
   "outputs": [
    {
     "data": {
      "text/html": [
       "<style>\n",
       ".list-inline {list-style: none; margin:0; padding: 0}\n",
       ".list-inline>li {display: inline-block}\n",
       ".list-inline>li:not(:last-child)::after {content: \"\\00b7\"; padding: 0 .5ex}\n",
       "</style>\n",
       "<ol class=list-inline><li>0.409309489226595</li><li>0.71782618513306</li></ol>\n"
      ],
      "text/latex": [
       "\\begin{enumerate*}\n",
       "\\item 0.409309489226595\n",
       "\\item 0.71782618513306\n",
       "\\end{enumerate*}\n"
      ],
      "text/markdown": [
       "1. 0.409309489226595\n",
       "2. 0.71782618513306\n",
       "\n",
       "\n"
      ],
      "text/plain": [
       "[1] 0.4093095 0.7178262"
      ]
     },
     "metadata": {},
     "output_type": "display_data"
    },
    {
     "data": {
      "text/html": [
       "<table class=\"dataframe\">\n",
       "<caption>A matrix: 2 × 2 of type dbl</caption>\n",
       "<thead>\n",
       "\t<tr><th scope=col>lo</th><th scope=col>up</th></tr>\n",
       "</thead>\n",
       "<tbody>\n",
       "\t<tr><td>0.4093095</td><td>0.7178262</td></tr>\n",
       "\t<tr><td>0.4776933</td><td>0.6494424</td></tr>\n",
       "</tbody>\n",
       "</table>\n"
      ],
      "text/latex": [
       "A matrix: 2 × 2 of type dbl\n",
       "\\begin{tabular}{ll}\n",
       " lo & up\\\\\n",
       "\\hline\n",
       "\t 0.4093095 & 0.7178262\\\\\n",
       "\t 0.4776933 & 0.6494424\\\\\n",
       "\\end{tabular}\n"
      ],
      "text/markdown": [
       "\n",
       "A matrix: 2 × 2 of type dbl\n",
       "\n",
       "| lo | up |\n",
       "|---|---|\n",
       "| 0.4093095 | 0.7178262 |\n",
       "| 0.4776933 | 0.6494424 |\n",
       "\n"
      ],
      "text/plain": [
       "     lo        up       \n",
       "[1,] 0.4093095 0.7178262\n",
       "[2,] 0.4776933 0.6494424"
      ]
     },
     "metadata": {},
     "output_type": "display_data"
    }
   ],
   "source": [
    "lo1 <- t0 - qnorm(.975)*sd(x)/2/mean(x)/sqrt(n)\n",
    "up1 <- t0 + qnorm(.975)*sd(x)/2/mean(x)/sqrt(n)\n",
    "as.numeric(c(lo=lo1, up=up1))\n",
    "lo11 <- t0 - qnorm(.975)*sd(rho)\n",
    "up11 <- t0 + qnorm(.975)*sd(rho)\n",
    "rbind(c(lo=lo1, up=up1),\n",
    "     c(lo=lo11, up=up11))"
   ]
  },
  {
   "cell_type": "markdown",
   "id": "4e2640ca",
   "metadata": {},
   "source": [
    "Discuss.\n",
    "<!-- We can compare it with the previous one -->\n",
    "<!-- ```{r ex1.4} -->\n",
    "<!-- ( rbind(c(lo=lo0, up=up0), -->\n",
    "<!--       c(lo=lo1, up=up1)) ) -->\n",
    "<!-- ``` -->\n",
    "<!-- and note that the bootstrap one is shorter.  -->\n",
    "\n",
    "\n",
    "### Example 2 - Estimate the expected value of the square root \n",
    "\n",
    "In this example, we have a sample $X_1, \\ldots, X_n$ and are\n",
    "interested in making inference on $\\theta = E_F[ \\sqrt{X} ]$. \n",
    "\n",
    "Here again we will generate the sample ourselves, so \n",
    "we will know the actual true value of $\\theta$. \n",
    "We use  $X \\sim \\chi^2_1$, and thus $\\sqrt{X} \\sim |Z|$,\n",
    "the absolute value of a standard normal \n",
    "random variable $Z \\sim {\\cal N}(0,1)$. Hence, \n",
    "$\\theta = E[ |Z| ] = \\sqrt{2/\\pi} = 0.7978846$. \n",
    "\n",
    "As before, first we generate a sample:"
   ]
  },
  {
   "cell_type": "code",
   "execution_count": 10,
   "id": "991fbdb9",
   "metadata": {},
   "outputs": [],
   "source": [
    "set.seed(123456)\n",
    "n <- 30\n",
    "x <- rchisq(n, df=1)"
   ]
  },
  {
   "cell_type": "markdown",
   "id": "57089a5d",
   "metadata": {},
   "source": [
    "A natural estimator for $\\theta$ is $(1/n) \\sum_{i=1}^n \\sqrt{X}_i$:"
   ]
  },
  {
   "cell_type": "code",
   "execution_count": 11,
   "id": "f481afdd",
   "metadata": {},
   "outputs": [
    {
     "data": {
      "text/html": [
       "0.933601431918183"
      ],
      "text/latex": [
       "0.933601431918183"
      ],
      "text/markdown": [
       "0.933601431918183"
      ],
      "text/plain": [
       "[1] 0.9336014"
      ]
     },
     "metadata": {},
     "output_type": "display_data"
    }
   ],
   "source": [
    "(t0 <- mean(sqrt(x)))"
   ]
  },
  {
   "cell_type": "markdown",
   "id": "3c7a13c0",
   "metadata": {},
   "source": [
    "Similarly to what we did above, we use $M = 5000$ \n",
    "bootstrap samples to estimate the sampling distribution of \n",
    "$\\hat{\\theta}_n = (1/n) \\sum_{i=1}^n \\sqrt{X}_i$:"
   ]
  },
  {
   "cell_type": "code",
   "execution_count": 12,
   "id": "fffb5715",
   "metadata": {},
   "outputs": [],
   "source": [
    "M <- 5000\n",
    "rho <- vector('numeric', M)\n",
    "for(j in 1:M) {\n",
    "  bb <- sample.int(n, repl=TRUE)\n",
    "  rho[j] <- mean(sqrt(x[bb]))\n",
    "}"
   ]
  },
  {
   "cell_type": "markdown",
   "id": "11c9a01e",
   "metadata": {},
   "source": [
    "We now  build an\n",
    "approximate 95\\% confidence interval for $\\theta$\n",
    "using the estimated quantiles of the sampling distribution\n",
    "of our estimator:"
   ]
  },
  {
   "cell_type": "code",
   "execution_count": 13,
   "id": "07ae370b",
   "metadata": {},
   "outputs": [
    {
     "data": {
      "text/html": [
       "<table class=\"dataframe\">\n",
       "<caption>A matrix: 2 × 2 of type dbl</caption>\n",
       "<thead>\n",
       "\t<tr><th scope=col>lo.97.5%</th><th scope=col>up.2.5%</th></tr>\n",
       "</thead>\n",
       "<tbody>\n",
       "\t<tr><td>0.6870952</td><td>1.164611</td></tr>\n",
       "\t<tr><td>0.7025918</td><td>1.180108</td></tr>\n",
       "</tbody>\n",
       "</table>\n"
      ],
      "text/latex": [
       "A matrix: 2 × 2 of type dbl\n",
       "\\begin{tabular}{ll}\n",
       " lo.97.5\\% & up.2.5\\%\\\\\n",
       "\\hline\n",
       "\t 0.6870952 & 1.164611\\\\\n",
       "\t 0.7025918 & 1.180108\\\\\n",
       "\\end{tabular}\n"
      ],
      "text/markdown": [
       "\n",
       "A matrix: 2 × 2 of type dbl\n",
       "\n",
       "| lo.97.5% | up.2.5% |\n",
       "|---|---|\n",
       "| 0.6870952 | 1.164611 |\n",
       "| 0.7025918 | 1.180108 |\n",
       "\n"
      ],
      "text/plain": [
       "     lo.97.5%  up.2.5% \n",
       "[1,] 0.6870952 1.164611\n",
       "[2,] 0.7025918 1.180108"
      ]
     },
     "metadata": {},
     "output_type": "display_data"
    }
   ],
   "source": [
    "lo0 <- t0 - quantile(rho - t0, .975)\n",
    "up0 <- t0 - quantile(rho - t0, .025)\n",
    "lo1 <- quantile(rho, .025)\n",
    "up1 <- quantile(rho, .975)\n",
    "rbind(c(lo=lo0, up=up0), c(lo=lo1, up=up1))"
   ]
  },
  {
   "cell_type": "markdown",
   "id": "bbf65bf3",
   "metadata": {},
   "source": [
    "Can you think of another method to build an\n",
    "approximate CI for $E[ \\sqrt{X} ]$? \n",
    "\n",
    "\n",
    "### Example 3 - The bootstrap's automatic transformation\n",
    "\n",
    "This example illustrates an important property of the\n",
    "simple bootstrap percentile confidence intervals.\n",
    "Given a sample $X_1, \\ldots, X_n$ we are interested\n",
    "in $\\theta = e^\\mu$ where $\\mu = E(X)$. \n",
    "First, lets  generate a small sample:"
   ]
  },
  {
   "cell_type": "code",
   "execution_count": 14,
   "id": "a8f91f3e",
   "metadata": {},
   "outputs": [],
   "source": [
    "set.seed(123)\n",
    "n <- 20\n",
    "x <- rnorm(n)"
   ]
  },
  {
   "cell_type": "markdown",
   "id": "0ab46780",
   "metadata": {},
   "source": [
    "The MLE estimator is $\\hat{\\theta}_n = e^{\\bar{X}_n}$:"
   ]
  },
  {
   "cell_type": "code",
   "execution_count": 15,
   "id": "19a30ae0",
   "metadata": {},
   "outputs": [
    {
     "data": {
      "text/html": [
       "1.15214313360273"
      ],
      "text/latex": [
       "1.15214313360273"
      ],
      "text/markdown": [
       "1.15214313360273"
      ],
      "text/plain": [
       "[1] 1.152143"
      ]
     },
     "metadata": {},
     "output_type": "display_data"
    }
   ],
   "source": [
    "(t0 <- exp(mean(x)))"
   ]
  },
  {
   "cell_type": "markdown",
   "id": "91d603e8",
   "metadata": {},
   "source": [
    "Use bootstrap to estimate quantiles of the\n",
    "statistic of interest"
   ]
  },
  {
   "cell_type": "code",
   "execution_count": 16,
   "id": "c18e8e12",
   "metadata": {},
   "outputs": [],
   "source": [
    "M <- 5000\n",
    "rho <- vector('numeric', M)\n",
    "for(j in 1:M) {\n",
    "  bb <- sample.int(n, repl=TRUE)\n",
    "  rho[j] <- exp(mean(x[bb]))\n",
    "}"
   ]
  },
  {
   "cell_type": "markdown",
   "id": "54f55d09",
   "metadata": {},
   "source": [
    "Now use  the estimated quantiles to build an\n",
    "approximate 95\\% confidence interval:"
   ]
  },
  {
   "cell_type": "code",
   "execution_count": 17,
   "id": "e0bd2692",
   "metadata": {},
   "outputs": [
    {
     "data": {
      "text/html": [
       "<style>\n",
       ".dl-inline {width: auto; margin:0; padding: 0}\n",
       ".dl-inline>dt, .dl-inline>dd {float: none; width: auto; display: inline-block}\n",
       ".dl-inline>dt::after {content: \":\\0020\"; padding-right: .5ex}\n",
       ".dl-inline>dt:not(:first-of-type) {padding-left: .5ex}\n",
       "</style><dl class=dl-inline><dt>lo.2.5%</dt><dd>0.759372147218812</dd><dt>up.97.5%</dt><dd>1.71757918678912</dd></dl>\n"
      ],
      "text/latex": [
       "\\begin{description*}\n",
       "\\item[lo.2.5\\textbackslash{}\\%] 0.759372147218812\n",
       "\\item[up.97.5\\textbackslash{}\\%] 1.71757918678912\n",
       "\\end{description*}\n"
      ],
      "text/markdown": [
       "lo.2.5%\n",
       ":   0.759372147218812up.97.5%\n",
       ":   1.71757918678912\n",
       "\n"
      ],
      "text/plain": [
       "  lo.2.5%  up.97.5% \n",
       "0.7593721 1.7175792 "
      ]
     },
     "metadata": {},
     "output_type": "display_data"
    }
   ],
   "source": [
    "lo1 <- quantile(rho, .025)\n",
    "up1 <- quantile(rho, .975)\n",
    "c(lo=lo1, up=up1)"
   ]
  },
  {
   "cell_type": "markdown",
   "id": "8dd1d7de",
   "metadata": {},
   "source": [
    "Compare this with a CLT based CI:"
   ]
  },
  {
   "cell_type": "code",
   "execution_count": 18,
   "id": "9adff9ea",
   "metadata": {},
   "outputs": [
    {
     "data": {
      "text/html": [
       "<style>\n",
       ".dl-inline {width: auto; margin:0; padding: 0}\n",
       ".dl-inline>dt, .dl-inline>dd {float: none; width: auto; display: inline-block}\n",
       ".dl-inline>dt::after {content: \":\\0020\"; padding-right: .5ex}\n",
       ".dl-inline>dt:not(:first-of-type) {padding-left: .5ex}\n",
       "</style><dl class=dl-inline><dt>lo</dt><dd>0.670366481952463</dd><dt>up</dt><dd>1.63391978525299</dd></dl>\n"
      ],
      "text/latex": [
       "\\begin{description*}\n",
       "\\item[lo] 0.670366481952463\n",
       "\\item[up] 1.63391978525299\n",
       "\\end{description*}\n"
      ],
      "text/markdown": [
       "lo\n",
       ":   0.670366481952463up\n",
       ":   1.63391978525299\n",
       "\n"
      ],
      "text/plain": [
       "       lo        up \n",
       "0.6703665 1.6339198 "
      ]
     },
     "metadata": {},
     "output_type": "display_data"
    }
   ],
   "source": [
    "c(lo=t0 - qnorm(.975)*sd(rho), \n",
    "  up=t0 + qnorm(.975)*sd(rho))"
   ]
  },
  {
   "cell_type": "markdown",
   "id": "0966878b",
   "metadata": {},
   "source": [
    "Note that the distribution of our estimator\n",
    "is quite asymmetric:"
   ]
  },
  {
   "cell_type": "code",
   "execution_count": 19,
   "id": "c844e0b3",
   "metadata": {
    "attributes": {
     "classes": [],
     "fig.show": "\"hold\",",
     "id": "",
     "out.width": "\"50%\""
    }
   },
   "outputs": [
    {
     "data": {
      "image/png": "[encoded data removed]",
      "text/plain": [
       "Plot with title \"rho\""
      ]
     },
     "metadata": {
      "image/png": {
       "height": 420,
       "width": 420
      }
     },
     "output_type": "display_data"
    },
    {
     "data": {
      "image/png": "[encoded data removed]",
      "text/plain": [
       "Plot with title \"rho\""
      ]
     },
     "metadata": {
      "image/png": {
       "height": 420,
       "width": 420
      }
     },
     "output_type": "display_data"
    }
   ],
   "source": [
    "hist(rho, main=expression(rho))\n",
    "boxplot(rho, main=expression(rho))"
   ]
  },
  {
   "cell_type": "markdown",
   "id": "7a58363a",
   "metadata": {},
   "source": [
    "So it should not a surprise that these two confidence\n",
    "intervals differ from each other. However, \n",
    "we now that if we transform our estimator with `log`,\n",
    "then, the distribution should be quite symmetric,\n",
    "and we expect both CIs (bootstrap and \"normal\")\n",
    "to be closer to each other. \n",
    "Let us verify this in this example."
   ]
  },
  {
   "cell_type": "code",
   "execution_count": 20,
   "id": "b8ac0296",
   "metadata": {},
   "outputs": [
    {
     "data": {
      "text/html": [
       "<table class=\"dataframe\">\n",
       "<caption>A matrix: 2 × 2 of type dbl</caption>\n",
       "<thead>\n",
       "\t<tr><th scope=col>lo.2.5%</th><th scope=col>up.97.5%</th></tr>\n",
       "</thead>\n",
       "<tbody>\n",
       "\t<tr><td>-0.2723530</td><td>0.5556346</td></tr>\n",
       "\t<tr><td>-0.2707307</td><td>0.5539783</td></tr>\n",
       "</tbody>\n",
       "</table>\n"
      ],
      "text/latex": [
       "A matrix: 2 × 2 of type dbl\n",
       "\\begin{tabular}{ll}\n",
       " lo.2.5\\% & up.97.5\\%\\\\\n",
       "\\hline\n",
       "\t -0.2723530 & 0.5556346\\\\\n",
       "\t -0.2707307 & 0.5539783\\\\\n",
       "\\end{tabular}\n"
      ],
      "text/markdown": [
       "\n",
       "A matrix: 2 × 2 of type dbl\n",
       "\n",
       "| lo.2.5% | up.97.5% |\n",
       "|---|---|\n",
       "| -0.2723530 | 0.5556346 |\n",
       "| -0.2707307 | 0.5539783 |\n",
       "\n"
      ],
      "text/plain": [
       "     lo.2.5%    up.97.5% \n",
       "[1,] -0.2723530 0.5556346\n",
       "[2,] -0.2707307 0.5539783"
      ]
     },
     "metadata": {},
     "output_type": "display_data"
    }
   ],
   "source": [
    "t0 <- mean(x)\n",
    "M <- 5000\n",
    "rho <- vector('numeric', M)\n",
    "for(j in 1:M) {\n",
    "  bb <- sample.int(n, repl=TRUE)\n",
    "  rho[j] <- mean(x[bb])\n",
    "}\n",
    "lo1.log <- quantile(rho, .025)\n",
    "up1.log <- quantile(rho, .975)\n",
    "lo2.log <- t0 - qnorm(.975)*sd(rho)\n",
    "up2.log <- t0 + qnorm(.975)*sd(rho)\n",
    "rbind(c(lo=lo1.log, up=up1.log),\n",
    "      c(lo=lo2.log, up=up2.log))"
   ]
  },
  {
   "cell_type": "markdown",
   "id": "c447e10a",
   "metadata": {},
   "source": [
    "Note that now the two CIs are fairly similar.\n",
    "But also note that if we transform \n",
    "these back to the `exp` scale, \n",
    "they all resemble the one we obtained with \n",
    "the bootstrap percentile method:"
   ]
  },
  {
   "cell_type": "code",
   "execution_count": 21,
   "id": "e176883b",
   "metadata": {},
   "outputs": [
    {
     "data": {
      "text/html": [
       "<table class=\"dataframe\">\n",
       "<caption>A matrix: 3 × 2 of type dbl</caption>\n",
       "<thead>\n",
       "\t<tr><th></th><th scope=col>lo.2.5%</th><th scope=col>up.97.5%</th></tr>\n",
       "</thead>\n",
       "<tbody>\n",
       "\t<tr><th scope=row>BootLog</th><td>0.7615854</td><td>1.743047</td></tr>\n",
       "\t<tr><th scope=row>GausLog</th><td>0.7628219</td><td>1.740162</td></tr>\n",
       "\t<tr><th scope=row>Boot</th><td>0.7593721</td><td>1.717579</td></tr>\n",
       "</tbody>\n",
       "</table>\n"
      ],
      "text/latex": [
       "A matrix: 3 × 2 of type dbl\n",
       "\\begin{tabular}{r|ll}\n",
       "  & lo.2.5\\% & up.97.5\\%\\\\\n",
       "\\hline\n",
       "\tBootLog & 0.7615854 & 1.743047\\\\\n",
       "\tGausLog & 0.7628219 & 1.740162\\\\\n",
       "\tBoot & 0.7593721 & 1.717579\\\\\n",
       "\\end{tabular}\n"
      ],
      "text/markdown": [
       "\n",
       "A matrix: 3 × 2 of type dbl\n",
       "\n",
       "| <!--/--> | lo.2.5% | up.97.5% |\n",
       "|---|---|---|\n",
       "| BootLog | 0.7615854 | 1.743047 |\n",
       "| GausLog | 0.7628219 | 1.740162 |\n",
       "| Boot | 0.7593721 | 1.717579 |\n",
       "\n"
      ],
      "text/plain": [
       "        lo.2.5%   up.97.5%\n",
       "BootLog 0.7615854 1.743047\n",
       "GausLog 0.7628219 1.740162\n",
       "Boot    0.7593721 1.717579"
      ]
     },
     "metadata": {},
     "output_type": "display_data"
    }
   ],
   "source": [
    "rbind(BootLog=c(lo=exp(lo1.log), up=exp(up1.log)),\n",
    "      GausLog=c(lo=exp(lo2.log), up=exp(up2.log)),\n",
    "      Boot = c(lo=lo1, up=up1))"
   ]
  },
  {
   "cell_type": "markdown",
   "id": "390a4686",
   "metadata": {},
   "source": [
    "In other words, the simple percentile bootstrap\n",
    "method behaved as if it knew which transformation\n",
    "to apply to obtain symmetry, and then transformed\n",
    "the quantiles back. We will discuss this further \n",
    "in class."
   ]
  }
 ],
 "metadata": {
  "kernelspec": {
   "display_name": "R",
   "language": "R",
   "name": "ir"
  },
  "language_info": {
   "codemirror_mode": "r",
   "file_extension": ".r",
   "mimetype": "text/x-r-source",
   "name": "R",
   "pygments_lexer": "r",
   "version": "4.1.0"
  }
 },
 "nbformat": 4,
 "nbformat_minor": 5
}
