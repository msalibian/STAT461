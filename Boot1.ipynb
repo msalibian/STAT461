{
 "cells": [
  {
   "cell_type": "markdown",
   "id": "f78aff54",
   "metadata": {},
   "source": [
    "## A few examples\n",
    "\n",
    "In these notes we will use a few simple examples to illustrate \n",
    "how to use the bootstrap in practice to construct confidence intervals for\n",
    "a  \"parameter\" of an underlying and unknown distribution. These\n",
    "first examples are very simple and only meant to \"fix ideas\" about\n",
    "how the use of bootstrap looks outside the blackboard. Furthermore, \n",
    "in these synthetic examples we actually know the true distribution \n",
    "that generated the sample (and thus,\n",
    "we also know the value of the parameter of interest). This will \n",
    "allow us to assess\n",
    "the level of success of this inferential approach. \n",
    "\n",
    "In these examples we will only use the simplest bootstrap \n",
    "percentile method to construct confidence intervals. \n",
    "\n",
    "### Example 1 - Estimate the square root of the expected value\n",
    "\n",
    "Consider a sample $X_1$, \\ldots, $X_n$ from an unknown distribution $F$.\n",
    "We assume that the mean $\\mu = E_F(X)$ exists and are interested in\n",
    "building an approximate 95\\% confidence interval for its square\n",
    "root: $\\theta = \\sqrt{\\mu}$. \n",
    "\n",
    "Here we first generate a sample of size $n = 30$."
   ]
  },
  {
   "cell_type": "code",
   "execution_count": null,
   "id": "7a36ac4c",
   "metadata": {},
   "outputs": [],
   "source": [
    "n <- 30\n",
    "x <- rexp(n, rate=4)"
   ]
  },
  {
   "cell_type": "markdown",
   "id": "cdf1bc88",
   "metadata": {},
   "source": [
    "Note that for these data, $\\theta = 1/2$. A natural estimator \n",
    "for $\\sqrt{\\mu}$ is the square root of the sample mean\n",
    "(e.g. this is the MLE of $\\theta$):"
   ]
  },
  {
   "cell_type": "code",
   "execution_count": null,
   "id": "672945ed",
   "metadata": {},
   "outputs": [],
   "source": [
    "( t0 <- sqrt(mean(x)) )"
   ]
  },
  {
   "cell_type": "markdown",
   "id": "9116c518",
   "metadata": {},
   "source": [
    "We will not estimate the distribution of $\\sqrt{ \\bar{X}_n}$\n",
    "using the bootstrap. For this, we sample a large number \n",
    "$M = 5000$ of samples of size $n = 30$ from \n",
    "the empirical distribution $\\hat{F}_n$. As we discussed \n",
    "in class, drawing a sample from the empirical distribution\n",
    "is equivalent to drawing $n$ independent observations \n",
    "from the set $\\left\\{ X_1, \\ldots, X_n \\right\\}$\n",
    "with replacement. In `R` we can do this by simply\n",
    "drawing a sample of the indices, i.e. we \n",
    "draw $n$ points (with replacement) from the set\n",
    "$\\left\\{1, 2, \\ldots, n \\right\\}$ and re-compute\n",
    "the estimator with the corresponding points in the sample. \n",
    "Note that bootstrap samples may (and typically do) contain\n",
    "repeated observations (even if the \"original\" sample does not). \n",
    "\n",
    "Here is one bootstrap sample, and its corresponding \n",
    "re-computed statistic:"
   ]
  },
  {
   "cell_type": "code",
   "execution_count": null,
   "id": "621bd0f3",
   "metadata": {},
   "outputs": [],
   "source": [
    "bb <- sample.int(n, repl=TRUE)\n",
    "sort(bb)"
   ]
  },
  {
   "cell_type": "markdown",
   "id": "9f4a8244",
   "metadata": {},
   "source": [
    "Here are the correponding observations"
   ]
  },
  {
   "cell_type": "code",
   "execution_count": null,
   "id": "041ea3d5",
   "metadata": {},
   "outputs": [],
   "source": [
    "x[bb]"
   ]
  },
  {
   "cell_type": "markdown",
   "id": "2e63e62b",
   "metadata": {},
   "source": [
    "and the associated estimator"
   ]
  },
  {
   "cell_type": "code",
   "execution_count": null,
   "id": "6e179597",
   "metadata": {},
   "outputs": [],
   "source": [
    "sqrt(mean(x[bb]))"
   ]
  },
  {
   "cell_type": "markdown",
   "id": "53da9262",
   "metadata": {},
   "source": [
    "We now do this $M = 5000$ times, and collect all the recomputed\n",
    "estimators in a vector. Note that there are more efficient ways \n",
    "of doing these calculations, but here I am giving preference to\n",
    "transparency over computational efficiency."
   ]
  },
  {
   "cell_type": "code",
   "execution_count": null,
   "id": "17faa144",
   "metadata": {},
   "outputs": [],
   "source": [
    "M <- 5000\n",
    "th <- vector('numeric', M)\n",
    "for(j in 1:M) {\n",
    "  bb <- sample.int(n, repl=TRUE)\n",
    "  # bb <- sample(1:n, repl=TRUE)\n",
    "  th[j] <- sqrt(mean(x[bb]))\n",
    "}"
   ]
  },
  {
   "cell_type": "markdown",
   "id": "8b58a458",
   "metadata": {},
   "source": [
    "We can look at a histogram and boxplot of the recomputed\n",
    "estimators. These are bootstrap estimators of the true\n",
    "sampling distribution of $\\hat{\\theta}_n = \\sqrt{ \\bar{X}_n }$:"
   ]
  },
  {
   "cell_type": "code",
   "execution_count": null,
   "id": "1bf3197f",
   "metadata": {
    "attributes": {
     "classes": [],
     "fig.show": "\"hold\",",
     "id": "",
     "out.width": "\"50%\""
    }
   },
   "outputs": [],
   "source": [
    "hist(th, main=expression(hat(theta)))\n",
    "boxplot(th, main=expression(hat(theta)))"
   ]
  },
  {
   "cell_type": "markdown",
   "id": "39eaa618",
   "metadata": {},
   "source": [
    "We now use the quantiles from the centered bootstrap \n",
    "distribution to build an approximate 95\\% confidence\n",
    "interval for $\\theta = \\sqrt{\\mu}$:"
   ]
  },
  {
   "cell_type": "code",
   "execution_count": null,
   "id": "6ea1815e",
   "metadata": {},
   "outputs": [],
   "source": [
    "lo0 <- t0 - quantile(th - t0, .975)\n",
    "up0 <- t0 - quantile(th - t0, .025)\n",
    "lo4 <- quantile(th, .025)\n",
    "up4 <- quantile(th, .975)\n",
    "rbind(c(lo=lo0, up=up0), c(lo=lo4, up=up4))"
   ]
  },
  {
   "cell_type": "markdown",
   "id": "7b9b748e",
   "metadata": {},
   "source": [
    "Alternatively, we can use the CLT and the \"delta\" method\n",
    "to derive a asymptotic CI which yields:"
   ]
  },
  {
   "cell_type": "code",
   "execution_count": null,
   "id": "40c4dbdb",
   "metadata": {},
   "outputs": [],
   "source": [
    "lo1 <- t0 - qnorm(.975)*sd(x)/2/sqrt(mean(x))/sqrt(n)\n",
    "up1 <- t0 + qnorm(.975)*sd(x)/2/sqrt(mean(x))/sqrt(n)\n",
    "as.numeric(c(lo=lo1, up=up1))"
   ]
  },
  {
   "cell_type": "markdown",
   "id": "3ba34fea",
   "metadata": {},
   "source": [
    "Discuss.\n",
    "<!-- We can compare it with the previous one -->\n",
    "<!-- ```{r ex1.4} -->\n",
    "<!-- ( rbind(c(lo=lo0, up=up0), -->\n",
    "<!--       c(lo=lo1, up=up1)) ) -->\n",
    "<!-- ``` -->\n",
    "<!-- and note that the bootstrap one is shorter.  -->\n",
    "\n",
    "\n",
    "### Example 2 - Estimate the expected value of the square root \n",
    "\n",
    "In this example, we have a sample $X_1, \\ldots, X_n$ and are\n",
    "interested in making inference on $\\theta = E_F[ \\sqrt{X} ]$. \n",
    "\n",
    "Here again we will generate the sample ourselves, so \n",
    "we will know the actual true value of $\\theta$. \n",
    "We use  $X \\sim \\chi^2_1$, and thus $\\sqrt{X} \\sim |Z|$,\n",
    "the absolute value of a standard normal \n",
    "random variable $Z \\sim {\\cal N}(0,1)$. Hence, \n",
    "$\\theta = E[ |Z| ] = \\sqrt{2/\\pi} = 0.7978846$. \n",
    "\n",
    "As before, first we generate a sample:"
   ]
  },
  {
   "cell_type": "code",
   "execution_count": null,
   "id": "2d068f52",
   "metadata": {},
   "outputs": [],
   "source": [
    "set.seed(123456)\n",
    "n <- 30\n",
    "x <- rchisq(n, df=1)"
   ]
  },
  {
   "cell_type": "markdown",
   "id": "7d4b3223",
   "metadata": {},
   "source": [
    "A natural estimator for $\\theta$ is $(1/n) \\sum_{i=1}^n \\sqrt{X}_i$:"
   ]
  },
  {
   "cell_type": "code",
   "execution_count": null,
   "id": "ba0ae382",
   "metadata": {},
   "outputs": [],
   "source": [
    "(t0 <- mean(sqrt(x)))"
   ]
  },
  {
   "cell_type": "markdown",
   "id": "aba94a89",
   "metadata": {},
   "source": [
    "Similarly to what we did above, we use $M = 5000$ \n",
    "bootstrap samples to estimate the sampling distribution of \n",
    "$\\hat{\\theta}_n = (1/n) \\sum_{i=1}^n \\sqrt{X}_i$:"
   ]
  },
  {
   "cell_type": "code",
   "execution_count": null,
   "id": "60d5c5d9",
   "metadata": {},
   "outputs": [],
   "source": [
    "M <- 5000\n",
    "th <- vector('numeric', M)\n",
    "for(j in 1:M) {\n",
    "  bb <- sample.int(n, repl=TRUE)\n",
    "  th[j] <- mean(sqrt(x[bb]))\n",
    "}"
   ]
  },
  {
   "cell_type": "markdown",
   "id": "17a9bb75",
   "metadata": {},
   "source": [
    "We now  build an\n",
    "approximate 95\\% confidence interval for $\\theta$\n",
    "using the estimated quantiles of the sampling distribution\n",
    "of our estimator:"
   ]
  },
  {
   "cell_type": "code",
   "execution_count": null,
   "id": "7db8108c",
   "metadata": {},
   "outputs": [],
   "source": [
    "lo0 <- t0 - quantile(th - t0, .975)\n",
    "up0 <- t0 - quantile(th - t0, .025)\n",
    "lo1 <- quantile(th, .025)\n",
    "up1 <- quantile(th, .975)\n",
    "rbind(c(lo=lo0, up=up0), c(lo=lo1, up=up1))"
   ]
  },
  {
   "cell_type": "markdown",
   "id": "cee7be4f",
   "metadata": {},
   "source": [
    "Can you think of another method to build an\n",
    "approximate CI for $E[ \\sqrt{X} ]$? \n",
    "\n",
    "\n",
    "### Example 3 - The bootstrap's automatic transformation\n",
    "\n",
    "This example illustrates an important property of the\n",
    "simple bootstrap percentile confidence intervals.\n",
    "Given a sample $X_1, \\ldots, X_n$ we are interested\n",
    "in $\\theta = e^\\mu$ where $\\mu = E(X)$. \n",
    "First, lets  generate a small sample:"
   ]
  },
  {
   "cell_type": "code",
   "execution_count": null,
   "id": "60ee44b5",
   "metadata": {},
   "outputs": [],
   "source": [
    "set.seed(123)\n",
    "n <- 20\n",
    "x <- rnorm(n)"
   ]
  },
  {
   "cell_type": "markdown",
   "id": "6f8fccb6",
   "metadata": {},
   "source": [
    "The MLE estimator is $\\hat{\\theta}_n = e^{\\bar{X}_n}$:"
   ]
  },
  {
   "cell_type": "code",
   "execution_count": null,
   "id": "1f96910b",
   "metadata": {},
   "outputs": [],
   "source": [
    "(t0 <- exp(mean(x)))"
   ]
  },
  {
   "cell_type": "markdown",
   "id": "72c2566e",
   "metadata": {},
   "source": [
    "Use bootstrap to estimate quantiles of the\n",
    "statistic of interest"
   ]
  },
  {
   "cell_type": "code",
   "execution_count": null,
   "id": "74e144ec",
   "metadata": {},
   "outputs": [],
   "source": [
    "M <- 5000\n",
    "th <- vector('numeric', M)\n",
    "for(j in 1:M) {\n",
    "  bb <- sample.int(n, repl=TRUE)\n",
    "  th[j] <- exp(mean(x[bb]))\n",
    "}"
   ]
  },
  {
   "cell_type": "markdown",
   "id": "0062fab8",
   "metadata": {},
   "source": [
    "Now use  the estimated quantiles to build an\n",
    "approximate 95\\% confidence interval:"
   ]
  },
  {
   "cell_type": "code",
   "execution_count": null,
   "id": "64ebee19",
   "metadata": {},
   "outputs": [],
   "source": [
    "lo1 <- quantile(th, .025)\n",
    "up1 <- quantile(th, .975)\n",
    "c(lo=lo1, up=up1)"
   ]
  },
  {
   "cell_type": "markdown",
   "id": "bad6dce3",
   "metadata": {},
   "source": [
    "Compare this with a CLT based CI:"
   ]
  },
  {
   "cell_type": "code",
   "execution_count": null,
   "id": "f1233819",
   "metadata": {},
   "outputs": [],
   "source": [
    "c(lo=t0 - qnorm(.975)*sd(th), \n",
    "  up=t0 + qnorm(.975)*sd(th))"
   ]
  },
  {
   "cell_type": "markdown",
   "id": "fd1b1da6",
   "metadata": {},
   "source": [
    "Note that the distribution of our estimator\n",
    "is quite asymmetric:"
   ]
  },
  {
   "cell_type": "code",
   "execution_count": null,
   "id": "ffd6e008",
   "metadata": {
    "attributes": {
     "classes": [],
     "fig.show": "\"hold\",",
     "id": "",
     "out.width": "\"50%\""
    }
   },
   "outputs": [],
   "source": [
    "hist(th, main=expression(hat(theta)))\n",
    "boxplot(th, main=expression(hat(theta)))"
   ]
  },
  {
   "cell_type": "markdown",
   "id": "dc6801d4",
   "metadata": {},
   "source": [
    "So it should not a surprise that these two confidence\n",
    "intervals differ from each other. However, \n",
    "we now that if we transform our estimator with `log`,\n",
    "then, the distribution should be quite symmetric,\n",
    "and we expect both CIs (bootstrap and \"normal\")\n",
    "to be closer to each other. \n",
    "Let us verify this in this example."
   ]
  },
  {
   "cell_type": "code",
   "execution_count": null,
   "id": "e65f7bb3",
   "metadata": {},
   "outputs": [],
   "source": [
    "t0 <- mean(x)\n",
    "M <- 5000\n",
    "th <- vector('numeric', M)\n",
    "for(j in 1:M) {\n",
    "  bb <- sample.int(n, repl=TRUE)\n",
    "  th[j] <- mean(x[bb])\n",
    "}\n",
    "lo1.log <- quantile(th, .025)\n",
    "up1.log <- quantile(th, .975)\n",
    "lo2.log <- t0 - qnorm(.975)*sd(th)\n",
    "up2.log <- t0 + qnorm(.975)*sd(th)\n",
    "rbind(c(lo=lo1.log, up=up1.log),\n",
    "      c(lo=lo2.log, up=up2.log))"
   ]
  },
  {
   "cell_type": "markdown",
   "id": "3f197d4e",
   "metadata": {},
   "source": [
    "Note that now the two CIs are fairly similar.\n",
    "But also note that if we transform \n",
    "these back to the `exp` scale, \n",
    "they all resemble the one we obtained with \n",
    "the bootstrap percentile method:"
   ]
  },
  {
   "cell_type": "code",
   "execution_count": null,
   "id": "2b258f4c",
   "metadata": {},
   "outputs": [],
   "source": [
    "rbind(BootLog=c(lo=exp(lo1.log), up=exp(up1.log)),\n",
    "      GausLog=c(lo=exp(lo2.log), up=exp(up2.log)),\n",
    "      Boot = c(lo=lo1, up=up1))"
   ]
  },
  {
   "cell_type": "markdown",
   "id": "bbecb3ad",
   "metadata": {},
   "source": [
    "In other words, the simple percentile bootstrap\n",
    "method behaved as if it knew which transformation\n",
    "to apply to obtain symmetry, and then transformed\n",
    "the quantiles back. We will discuss this further \n",
    "in class. \n",
    "\n",
    "### Example 4 - A bivariate example (correlations)\n",
    "\n",
    "In this example we use the bootstrap to construct a\n",
    "confidence interval for the correlation coefficient\n",
    "of a pair of random variables $(X, Y)$. \n",
    "\n",
    "First, let's generated a random vector $(X, Y)$\n",
    "with non-Gaussian marginal distributions and\n",
    "non-zero correlation:"
   ]
  },
  {
   "cell_type": "code",
   "execution_count": null,
   "id": "f6dbb2c0",
   "metadata": {},
   "outputs": [],
   "source": [
    "set.seed(1717)\n",
    "n <- 20\n",
    "la <- rchisq(n, df=3)/sqrt(3)\n",
    "x <- rexp(n, rate=1) + la\n",
    "y <- runif(n, min=-1, max=1) + la"
   ]
  },
  {
   "cell_type": "markdown",
   "id": "d98f3e95",
   "metadata": {},
   "source": [
    "The correlation estimator is"
   ]
  },
  {
   "cell_type": "code",
   "execution_count": null,
   "id": "8a936964",
   "metadata": {},
   "outputs": [],
   "source": [
    "(t0 <- cor(x, y))"
   ]
  },
  {
   "cell_type": "markdown",
   "id": "58d5fae8",
   "metadata": {},
   "source": [
    "The true correlation coefficient is \n",
    "$$\n",
    "\\frac{2}{\\sqrt{2 + 1} \\sqrt{2 + 4/12}} = \n",
    "\\frac{2}{\\sqrt{3}\\sqrt{7/3}} = 0.7559289\n",
    "$$\n",
    "For bivariate observations $(X_i, Y_i)$ one\n",
    "needs to be careful when bootstraping, that \n",
    "the bootstrap samples respect the pairing. \n",
    "Lets construct a single bootstrapped $\\hat{\\rho}_n^*$:"
   ]
  },
  {
   "cell_type": "code",
   "execution_count": null,
   "id": "f62ecc2c",
   "metadata": {},
   "outputs": [],
   "source": [
    "bb <- sample.int(n, repl=TRUE)\n",
    "cor(x[bb], y[bb])"
   ]
  },
  {
   "cell_type": "markdown",
   "id": "2c86d65d",
   "metadata": {},
   "source": [
    "Note that the following would be wrong:"
   ]
  },
  {
   "cell_type": "code",
   "execution_count": null,
   "id": "84023a8f",
   "metadata": {},
   "outputs": [],
   "source": [
    "bb1 <- sample.int(n, repl=TRUE)\n",
    "bb2 <- sample.int(n, repl=TRUE)\n",
    "cor(x[bb1], y[bb2])"
   ]
  },
  {
   "cell_type": "markdown",
   "id": "508c58dd",
   "metadata": {},
   "source": [
    "Can you explain why the above is incorrect? (Intuitively: the\n",
    "bootstrapped $X_i$'s and $Y_i$'s would be uncorrelated \n",
    "with each other, it'd be a good exercise to run a simple\n",
    "experiment to see how this\n",
    "would look. Note that this is related to \"permutation\n",
    "tests\"). \n",
    "\n",
    "We now use 5000 bootstrap samples to estimate\n",
    "the sampling distribution of $\\hat{\\rho}_n$:"
   ]
  },
  {
   "cell_type": "code",
   "execution_count": null,
   "id": "b4b36189",
   "metadata": {},
   "outputs": [],
   "source": [
    "M <- 5000\n",
    "rho <- vector('numeric', M)\n",
    "for(j in 1:M) {\n",
    "  bb <- sample.int(n, repl=TRUE)\n",
    "  rho[j] <- cor(x[bb], y[bb])\n",
    "}"
   ]
  },
  {
   "cell_type": "markdown",
   "id": "8270525b",
   "metadata": {},
   "source": [
    "The distribution estimate is:"
   ]
  },
  {
   "cell_type": "code",
   "execution_count": null,
   "id": "ab0e8586",
   "metadata": {
    "attributes": {
     "classes": [],
     "fig.show": "\"hold\",",
     "id": "",
     "out.width": "\"50%\""
    }
   },
   "outputs": [],
   "source": [
    "hist(rho, main=expression(hat(rho)))\n",
    "boxplot(rho, main=expression(hat(rho)))"
   ]
  },
  {
   "cell_type": "markdown",
   "id": "47a1afe6",
   "metadata": {},
   "source": [
    "Using the \"pseudo-pivot\" percentile \n",
    "approach, we get the following 95\\% confidence \n",
    "interval:"
   ]
  },
  {
   "cell_type": "code",
   "execution_count": null,
   "id": "a4f6944c",
   "metadata": {},
   "outputs": [],
   "source": [
    "lo0 <- t0 - (quantile(rho, .975) - t0)\n",
    "up0 <- t0 - (quantile(rho, .025) - t0)\n",
    "c(lo=lo0, up=up0)"
   ]
  },
  {
   "cell_type": "markdown",
   "id": "423950b7",
   "metadata": {},
   "source": [
    "The simpler percentile bootstrap interval is:"
   ]
  },
  {
   "cell_type": "code",
   "execution_count": null,
   "id": "fe1d5d1a",
   "metadata": {},
   "outputs": [],
   "source": [
    "lo1 <- quantile(rho, .025)\n",
    "up1 <- quantile(rho, .975)\n",
    "c(lo=lo1, up=up1)"
   ]
  },
  {
   "cell_type": "markdown",
   "id": "56406607",
   "metadata": {},
   "source": [
    "Now note that in this example, there is a known transformation\n",
    "that makes $\\hat{\\rho}_n$ approximately\n",
    "normal (when $(X, Y)$ is a normal random vector).\n",
    "We apply it here to compare the resulting\n",
    "confidence interval with the simple bootstrap\n",
    "ones. We get:"
   ]
  },
  {
   "cell_type": "code",
   "execution_count": null,
   "id": "777bd7ef",
   "metadata": {},
   "outputs": [],
   "source": [
    "zz <- log((1+t0)/(1-t0))/2\n",
    "lo <- zz - qnorm(.975)/sqrt(n-3)\n",
    "up <- zz + qnorm(.975)/sqrt(n-3)\n",
    "lo2 <- (exp(2*lo)-1)/(exp(2*lo)+1)\n",
    "up2 <- (exp(2*up)-1)/(exp(2*up)+1)"
   ]
  },
  {
   "cell_type": "code",
   "execution_count": null,
   "id": "67538dd4",
   "metadata": {},
   "outputs": [],
   "source": [
    "rbind(ppivot=c(lo=lo0, up=up0),\n",
    "      perc=c(lo=lo1, up=up1),\n",
    "      normal=c(lo=lo2, up=up2))"
   ]
  },
  {
   "cell_type": "markdown",
   "id": "8e89bb5c",
   "metadata": {},
   "source": [
    "An approach that may work better is to apply a bias correction. \n",
    "The idea is to consider the possibility that the \n",
    "sampling distribution may not be centered at the \n",
    "parameter of interest. We will discuss this briefly in \n",
    "class. Note that in this case"
   ]
  },
  {
   "cell_type": "code",
   "execution_count": null,
   "id": "38dfc8f8",
   "metadata": {},
   "outputs": [],
   "source": [
    "tmp <- mean(rho <= t0)\n",
    "alph <- pnorm(qnorm(.025) + 2*qnorm(tmp))\n",
    "lo3 <- quantile(rho, alph)\n",
    "up3 <- quantile(rho, 1-alph)\n",
    "rbind(ppivot=c(lo0, up0),\n",
    "      perc=c(lo1, up1),\n",
    "      normal=c(lo2, up2),\n",
    "      bc=c(lo3, up3))"
   ]
  }
 ],
 "metadata": {
  "kernelspec": {
   "display_name": "R",
   "language": "R",
   "name": "ir"
  },
  "language_info": {
   "codemirror_mode": "r",
   "file_extension": ".r",
   "mimetype": "text/x-r-source",
   "name": "R",
   "pygments_lexer": "r",
   "version": "4.1.0"
  }
 },
 "nbformat": 4,
 "nbformat_minor": 5
}
